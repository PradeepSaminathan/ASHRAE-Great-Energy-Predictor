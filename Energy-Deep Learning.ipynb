{
 "cells": [
  {
   "cell_type": "code",
   "execution_count": 1,
   "metadata": {},
   "outputs": [],
   "source": [
    "import pandas as pd\n",
    "import numpy as np\n",
    "import matplotlib.pyplot as plt\n",
    "import seaborn as sns"
   ]
  },
  {
   "cell_type": "code",
   "execution_count": 2,
   "metadata": {},
   "outputs": [],
   "source": [
    "import warnings\n",
    "warnings.filterwarnings(\"ignore\")"
   ]
  },
  {
   "cell_type": "code",
   "execution_count": 3,
   "metadata": {},
   "outputs": [],
   "source": [
    "data = 'C:/Users/pradeepo/Downloads/Kaggle/Energy/train.csv'"
   ]
  },
  {
   "cell_type": "code",
   "execution_count": 4,
   "metadata": {},
   "outputs": [],
   "source": [
    "data_test = 'C:/Users/pradeepo/Downloads/Kaggle/Energy/test.csv'"
   ]
  },
  {
   "cell_type": "code",
   "execution_count": 5,
   "metadata": {},
   "outputs": [],
   "source": [
    "dftrain = pd.read_csv(data)"
   ]
  },
  {
   "cell_type": "code",
   "execution_count": 6,
   "metadata": {},
   "outputs": [
    {
     "data": {
      "text/plain": [
       "(20216100, 4)"
      ]
     },
     "execution_count": 6,
     "metadata": {},
     "output_type": "execute_result"
    }
   ],
   "source": [
    "dftrain.shape"
   ]
  },
  {
   "cell_type": "code",
   "execution_count": 7,
   "metadata": {},
   "outputs": [],
   "source": [
    "target = dftrain['meter_reading']"
   ]
  },
  {
   "cell_type": "code",
   "execution_count": 8,
   "metadata": {},
   "outputs": [],
   "source": [
    "dftest = pd.read_csv(data_test)"
   ]
  },
  {
   "cell_type": "code",
   "execution_count": 9,
   "metadata": {},
   "outputs": [],
   "source": [
    "df = pd.concat((dftrain,dftest),sort=False)"
   ]
  },
  {
   "cell_type": "code",
   "execution_count": 10,
   "metadata": {},
   "outputs": [
    {
     "data": {
      "text/html": [
       "<div>\n",
       "<style scoped>\n",
       "    .dataframe tbody tr th:only-of-type {\n",
       "        vertical-align: middle;\n",
       "    }\n",
       "\n",
       "    .dataframe tbody tr th {\n",
       "        vertical-align: top;\n",
       "    }\n",
       "\n",
       "    .dataframe thead th {\n",
       "        text-align: right;\n",
       "    }\n",
       "</style>\n",
       "<table border=\"1\" class=\"dataframe\">\n",
       "  <thead>\n",
       "    <tr style=\"text-align: right;\">\n",
       "      <th></th>\n",
       "      <th>building_id</th>\n",
       "      <th>meter</th>\n",
       "      <th>timestamp</th>\n",
       "      <th>meter_reading</th>\n",
       "      <th>row_id</th>\n",
       "    </tr>\n",
       "  </thead>\n",
       "  <tbody>\n",
       "    <tr>\n",
       "      <th>0</th>\n",
       "      <td>0</td>\n",
       "      <td>0</td>\n",
       "      <td>2016-01-01 00:00:00</td>\n",
       "      <td>0.0</td>\n",
       "      <td>NaN</td>\n",
       "    </tr>\n",
       "    <tr>\n",
       "      <th>1</th>\n",
       "      <td>1</td>\n",
       "      <td>0</td>\n",
       "      <td>2016-01-01 00:00:00</td>\n",
       "      <td>0.0</td>\n",
       "      <td>NaN</td>\n",
       "    </tr>\n",
       "    <tr>\n",
       "      <th>2</th>\n",
       "      <td>2</td>\n",
       "      <td>0</td>\n",
       "      <td>2016-01-01 00:00:00</td>\n",
       "      <td>0.0</td>\n",
       "      <td>NaN</td>\n",
       "    </tr>\n",
       "    <tr>\n",
       "      <th>3</th>\n",
       "      <td>3</td>\n",
       "      <td>0</td>\n",
       "      <td>2016-01-01 00:00:00</td>\n",
       "      <td>0.0</td>\n",
       "      <td>NaN</td>\n",
       "    </tr>\n",
       "    <tr>\n",
       "      <th>4</th>\n",
       "      <td>4</td>\n",
       "      <td>0</td>\n",
       "      <td>2016-01-01 00:00:00</td>\n",
       "      <td>0.0</td>\n",
       "      <td>NaN</td>\n",
       "    </tr>\n",
       "  </tbody>\n",
       "</table>\n",
       "</div>"
      ],
      "text/plain": [
       "   building_id  meter            timestamp  meter_reading  row_id\n",
       "0            0      0  2016-01-01 00:00:00            0.0     NaN\n",
       "1            1      0  2016-01-01 00:00:00            0.0     NaN\n",
       "2            2      0  2016-01-01 00:00:00            0.0     NaN\n",
       "3            3      0  2016-01-01 00:00:00            0.0     NaN\n",
       "4            4      0  2016-01-01 00:00:00            0.0     NaN"
      ]
     },
     "execution_count": 10,
     "metadata": {},
     "output_type": "execute_result"
    }
   ],
   "source": [
    "df.head()"
   ]
  },
  {
   "cell_type": "code",
   "execution_count": 11,
   "metadata": {},
   "outputs": [],
   "source": [
    "df.drop(['row_id','meter_reading'],axis = 1,inplace=True)"
   ]
  },
  {
   "cell_type": "code",
   "execution_count": 12,
   "metadata": {},
   "outputs": [
    {
     "data": {
      "text/plain": [
       "(61913700, 3)"
      ]
     },
     "execution_count": 12,
     "metadata": {},
     "output_type": "execute_result"
    }
   ],
   "source": [
    "df.shape"
   ]
  },
  {
   "cell_type": "code",
   "execution_count": 13,
   "metadata": {
    "scrolled": true
   },
   "outputs": [
    {
     "data": {
      "text/plain": [
       "building_id     int64\n",
       "meter           int64\n",
       "timestamp      object\n",
       "dtype: object"
      ]
     },
     "execution_count": 13,
     "metadata": {},
     "output_type": "execute_result"
    }
   ],
   "source": [
    "df.dtypes"
   ]
  },
  {
   "cell_type": "code",
   "execution_count": 14,
   "metadata": {},
   "outputs": [],
   "source": [
    "df['timestamp'] = pd.to_datetime(df['timestamp'])"
   ]
  },
  {
   "cell_type": "code",
   "execution_count": 15,
   "metadata": {},
   "outputs": [
    {
     "data": {
      "text/plain": [
       "1448"
      ]
     },
     "execution_count": 15,
     "metadata": {},
     "output_type": "execute_result"
    }
   ],
   "source": [
    "df.building_id.max()"
   ]
  },
  {
   "cell_type": "code",
   "execution_count": 16,
   "metadata": {
    "scrolled": true
   },
   "outputs": [],
   "source": [
    "df['building_id']=df.building_id.astype('int16')"
   ]
  },
  {
   "cell_type": "code",
   "execution_count": 17,
   "metadata": {},
   "outputs": [
    {
     "data": {
      "text/plain": [
       "building_id             int16\n",
       "meter                   int64\n",
       "timestamp      datetime64[ns]\n",
       "dtype: object"
      ]
     },
     "execution_count": 17,
     "metadata": {},
     "output_type": "execute_result"
    }
   ],
   "source": [
    "df.dtypes"
   ]
  },
  {
   "cell_type": "code",
   "execution_count": 18,
   "metadata": {},
   "outputs": [
    {
     "data": {
      "text/plain": [
       "3"
      ]
     },
     "execution_count": 18,
     "metadata": {},
     "output_type": "execute_result"
    }
   ],
   "source": [
    "df.meter.max()"
   ]
  },
  {
   "cell_type": "code",
   "execution_count": 19,
   "metadata": {},
   "outputs": [],
   "source": [
    "df['meter']=df.meter.astype('int8')"
   ]
  },
  {
   "cell_type": "code",
   "execution_count": 20,
   "metadata": {},
   "outputs": [
    {
     "data": {
      "text/plain": [
       "building_id             int16\n",
       "meter                    int8\n",
       "timestamp      datetime64[ns]\n",
       "dtype: object"
      ]
     },
     "execution_count": 20,
     "metadata": {},
     "output_type": "execute_result"
    }
   ],
   "source": [
    "df.dtypes"
   ]
  },
  {
   "cell_type": "code",
   "execution_count": 22,
   "metadata": {},
   "outputs": [],
   "source": [
    "train = df[:20216100]\n",
    "test = df[20216100:]"
   ]
  },
  {
   "cell_type": "code",
   "execution_count": 23,
   "metadata": {},
   "outputs": [],
   "source": [
    "data1 = 'C:/Users/pradeepo/Downloads/Kaggle/Energy/building_metadata.csv'"
   ]
  },
  {
   "cell_type": "code",
   "execution_count": 24,
   "metadata": {},
   "outputs": [],
   "source": [
    "dfmeta = pd.read_csv(data1)"
   ]
  },
  {
   "cell_type": "code",
   "execution_count": 25,
   "metadata": {},
   "outputs": [
    {
     "data": {
      "text/html": [
       "<div>\n",
       "<style scoped>\n",
       "    .dataframe tbody tr th:only-of-type {\n",
       "        vertical-align: middle;\n",
       "    }\n",
       "\n",
       "    .dataframe tbody tr th {\n",
       "        vertical-align: top;\n",
       "    }\n",
       "\n",
       "    .dataframe thead th {\n",
       "        text-align: right;\n",
       "    }\n",
       "</style>\n",
       "<table border=\"1\" class=\"dataframe\">\n",
       "  <thead>\n",
       "    <tr style=\"text-align: right;\">\n",
       "      <th></th>\n",
       "      <th>site_id</th>\n",
       "      <th>building_id</th>\n",
       "      <th>primary_use</th>\n",
       "      <th>square_feet</th>\n",
       "      <th>year_built</th>\n",
       "      <th>floor_count</th>\n",
       "    </tr>\n",
       "  </thead>\n",
       "  <tbody>\n",
       "    <tr>\n",
       "      <th>0</th>\n",
       "      <td>0</td>\n",
       "      <td>0</td>\n",
       "      <td>Education</td>\n",
       "      <td>7432</td>\n",
       "      <td>2008.0</td>\n",
       "      <td>NaN</td>\n",
       "    </tr>\n",
       "    <tr>\n",
       "      <th>1</th>\n",
       "      <td>0</td>\n",
       "      <td>1</td>\n",
       "      <td>Education</td>\n",
       "      <td>2720</td>\n",
       "      <td>2004.0</td>\n",
       "      <td>NaN</td>\n",
       "    </tr>\n",
       "    <tr>\n",
       "      <th>2</th>\n",
       "      <td>0</td>\n",
       "      <td>2</td>\n",
       "      <td>Education</td>\n",
       "      <td>5376</td>\n",
       "      <td>1991.0</td>\n",
       "      <td>NaN</td>\n",
       "    </tr>\n",
       "    <tr>\n",
       "      <th>3</th>\n",
       "      <td>0</td>\n",
       "      <td>3</td>\n",
       "      <td>Education</td>\n",
       "      <td>23685</td>\n",
       "      <td>2002.0</td>\n",
       "      <td>NaN</td>\n",
       "    </tr>\n",
       "    <tr>\n",
       "      <th>4</th>\n",
       "      <td>0</td>\n",
       "      <td>4</td>\n",
       "      <td>Education</td>\n",
       "      <td>116607</td>\n",
       "      <td>1975.0</td>\n",
       "      <td>NaN</td>\n",
       "    </tr>\n",
       "  </tbody>\n",
       "</table>\n",
       "</div>"
      ],
      "text/plain": [
       "   site_id  building_id primary_use  square_feet  year_built  floor_count\n",
       "0        0            0   Education         7432      2008.0          NaN\n",
       "1        0            1   Education         2720      2004.0          NaN\n",
       "2        0            2   Education         5376      1991.0          NaN\n",
       "3        0            3   Education        23685      2002.0          NaN\n",
       "4        0            4   Education       116607      1975.0          NaN"
      ]
     },
     "execution_count": 25,
     "metadata": {},
     "output_type": "execute_result"
    }
   ],
   "source": [
    "dfmeta.head()"
   ]
  },
  {
   "cell_type": "code",
   "execution_count": 26,
   "metadata": {},
   "outputs": [
    {
     "data": {
      "text/plain": [
       "(1449, 6)"
      ]
     },
     "execution_count": 26,
     "metadata": {},
     "output_type": "execute_result"
    }
   ],
   "source": [
    "dfmeta.shape"
   ]
  },
  {
   "cell_type": "code",
   "execution_count": 27,
   "metadata": {},
   "outputs": [
    {
     "data": {
      "text/plain": [
       "site_id          int64\n",
       "building_id      int64\n",
       "primary_use     object\n",
       "square_feet      int64\n",
       "year_built     float64\n",
       "floor_count    float64\n",
       "dtype: object"
      ]
     },
     "execution_count": 27,
     "metadata": {},
     "output_type": "execute_result"
    }
   ],
   "source": [
    "dfmeta.dtypes"
   ]
  },
  {
   "cell_type": "code",
   "execution_count": 28,
   "metadata": {},
   "outputs": [
    {
     "data": {
      "text/plain": [
       "1094"
      ]
     },
     "execution_count": 28,
     "metadata": {},
     "output_type": "execute_result"
    }
   ],
   "source": [
    "dfmeta.floor_count.isnull().sum()"
   ]
  },
  {
   "cell_type": "code",
   "execution_count": 29,
   "metadata": {},
   "outputs": [],
   "source": [
    "dfmeta = dfmeta.drop('floor_count', axis=1)"
   ]
  },
  {
   "cell_type": "code",
   "execution_count": 30,
   "metadata": {},
   "outputs": [
    {
     "name": "stdout",
     "output_type": "stream",
     "text": [
      "<class 'pandas.core.frame.DataFrame'>\n",
      "RangeIndex: 1449 entries, 0 to 1448\n",
      "Data columns (total 5 columns):\n",
      "site_id        1449 non-null int64\n",
      "building_id    1449 non-null int64\n",
      "primary_use    1449 non-null object\n",
      "square_feet    1449 non-null int64\n",
      "year_built     675 non-null float64\n",
      "dtypes: float64(1), int64(3), object(1)\n",
      "memory usage: 56.7+ KB\n"
     ]
    }
   ],
   "source": [
    "dfmeta.info()"
   ]
  },
  {
   "cell_type": "code",
   "execution_count": 31,
   "metadata": {},
   "outputs": [
    {
     "data": {
      "text/plain": [
       "Education                        549\n",
       "Office                           279\n",
       "Entertainment/public assembly    184\n",
       "Public services                  156\n",
       "Lodging/residential              147\n",
       "Other                             25\n",
       "Healthcare                        23\n",
       "Parking                           22\n",
       "Warehouse/storage                 13\n",
       "Manufacturing/industrial          12\n",
       "Retail                            11\n",
       "Services                          10\n",
       "Technology/science                 6\n",
       "Food sales and service             5\n",
       "Utility                            4\n",
       "Religious worship                  3\n",
       "Name: primary_use, dtype: int64"
      ]
     },
     "execution_count": 31,
     "metadata": {},
     "output_type": "execute_result"
    }
   ],
   "source": [
    "dfmeta['primary_use'].value_counts()"
   ]
  },
  {
   "cell_type": "code",
   "execution_count": 32,
   "metadata": {},
   "outputs": [
    {
     "data": {
      "text/plain": [
       "count     675.000000\n",
       "mean     1967.957037\n",
       "std        31.054030\n",
       "min      1900.000000\n",
       "25%      1949.000000\n",
       "50%      1970.000000\n",
       "75%      1995.000000\n",
       "max      2017.000000\n",
       "Name: year_built, dtype: float64"
      ]
     },
     "execution_count": 32,
     "metadata": {},
     "output_type": "execute_result"
    }
   ],
   "source": [
    "dfmeta.year_built.describe()"
   ]
  },
  {
   "cell_type": "code",
   "execution_count": 33,
   "metadata": {},
   "outputs": [
    {
     "data": {
      "text/plain": [
       "primary_use\n",
       "Education                        1962.579755\n",
       "Entertainment/public assembly    1970.904110\n",
       "Food sales and service           2012.000000\n",
       "Healthcare                       1982.250000\n",
       "Lodging/residential              1973.282353\n",
       "Manufacturing/industrial         1957.666667\n",
       "Office                           1972.894118\n",
       "Other                            1981.500000\n",
       "Parking                          1998.500000\n",
       "Public services                  1964.333333\n",
       "Religious worship                1979.000000\n",
       "Retail                           1997.571429\n",
       "Services                                 NaN\n",
       "Technology/science               1939.000000\n",
       "Utility                          1976.333333\n",
       "Warehouse/storage                1983.400000\n",
       "Name: year_built, dtype: float64"
      ]
     },
     "execution_count": 33,
     "metadata": {},
     "output_type": "execute_result"
    }
   ],
   "source": [
    "dfmeta.groupby('primary_use')['year_built'].mean()"
   ]
  },
  {
   "cell_type": "code",
   "execution_count": 34,
   "metadata": {},
   "outputs": [
    {
     "data": {
      "text/plain": [
       "primary_use\n",
       "Education                        1966.0\n",
       "Entertainment/public assembly    1976.0\n",
       "Food sales and service           2012.0\n",
       "Healthcare                       2000.0\n",
       "Lodging/residential              1975.0\n",
       "Manufacturing/industrial         1969.0\n",
       "Office                           1976.0\n",
       "Other                            1980.0\n",
       "Parking                          2003.0\n",
       "Public services                  1968.0\n",
       "Religious worship                1979.0\n",
       "Retail                           1996.0\n",
       "Services                            NaN\n",
       "Technology/science               1942.0\n",
       "Utility                          1990.0\n",
       "Warehouse/storage                1979.0\n",
       "Name: year_built, dtype: float64"
      ]
     },
     "execution_count": 34,
     "metadata": {},
     "output_type": "execute_result"
    }
   ],
   "source": [
    "dfmeta.groupby('primary_use')['year_built'].median()"
   ]
  },
  {
   "cell_type": "code",
   "execution_count": 35,
   "metadata": {},
   "outputs": [],
   "source": [
    "dfmeta.loc[dfmeta.year_built.isnull(), 'year_built'] = dfmeta.groupby('primary_use').year_built.transform('median')"
   ]
  },
  {
   "cell_type": "code",
   "execution_count": 36,
   "metadata": {},
   "outputs": [
    {
     "name": "stdout",
     "output_type": "stream",
     "text": [
      "<class 'pandas.core.frame.DataFrame'>\n",
      "RangeIndex: 1449 entries, 0 to 1448\n",
      "Data columns (total 5 columns):\n",
      "site_id        1449 non-null int64\n",
      "building_id    1449 non-null int64\n",
      "primary_use    1449 non-null object\n",
      "square_feet    1449 non-null int64\n",
      "year_built     1439 non-null float64\n",
      "dtypes: float64(1), int64(3), object(1)\n",
      "memory usage: 56.7+ KB\n"
     ]
    }
   ],
   "source": [
    "dfmeta.info()"
   ]
  },
  {
   "cell_type": "code",
   "execution_count": 37,
   "metadata": {},
   "outputs": [
    {
     "data": {
      "text/html": [
       "<div>\n",
       "<style scoped>\n",
       "    .dataframe tbody tr th:only-of-type {\n",
       "        vertical-align: middle;\n",
       "    }\n",
       "\n",
       "    .dataframe tbody tr th {\n",
       "        vertical-align: top;\n",
       "    }\n",
       "\n",
       "    .dataframe thead th {\n",
       "        text-align: right;\n",
       "    }\n",
       "</style>\n",
       "<table border=\"1\" class=\"dataframe\">\n",
       "  <thead>\n",
       "    <tr style=\"text-align: right;\">\n",
       "      <th></th>\n",
       "      <th>site_id</th>\n",
       "      <th>building_id</th>\n",
       "      <th>primary_use</th>\n",
       "      <th>square_feet</th>\n",
       "      <th>year_built</th>\n",
       "    </tr>\n",
       "  </thead>\n",
       "  <tbody>\n",
       "    <tr>\n",
       "      <th>892</th>\n",
       "      <td>9</td>\n",
       "      <td>892</td>\n",
       "      <td>Services</td>\n",
       "      <td>481999</td>\n",
       "      <td>NaN</td>\n",
       "    </tr>\n",
       "    <tr>\n",
       "      <th>944</th>\n",
       "      <td>9</td>\n",
       "      <td>944</td>\n",
       "      <td>Services</td>\n",
       "      <td>389641</td>\n",
       "      <td>NaN</td>\n",
       "    </tr>\n",
       "    <tr>\n",
       "      <th>970</th>\n",
       "      <td>9</td>\n",
       "      <td>970</td>\n",
       "      <td>Services</td>\n",
       "      <td>346056</td>\n",
       "      <td>NaN</td>\n",
       "    </tr>\n",
       "    <tr>\n",
       "      <th>982</th>\n",
       "      <td>9</td>\n",
       "      <td>982</td>\n",
       "      <td>Services</td>\n",
       "      <td>373416</td>\n",
       "      <td>NaN</td>\n",
       "    </tr>\n",
       "    <tr>\n",
       "      <th>984</th>\n",
       "      <td>9</td>\n",
       "      <td>984</td>\n",
       "      <td>Services</td>\n",
       "      <td>214252</td>\n",
       "      <td>NaN</td>\n",
       "    </tr>\n",
       "    <tr>\n",
       "      <th>1115</th>\n",
       "      <td>13</td>\n",
       "      <td>1115</td>\n",
       "      <td>Services</td>\n",
       "      <td>42028</td>\n",
       "      <td>NaN</td>\n",
       "    </tr>\n",
       "    <tr>\n",
       "      <th>1116</th>\n",
       "      <td>13</td>\n",
       "      <td>1116</td>\n",
       "      <td>Services</td>\n",
       "      <td>11681</td>\n",
       "      <td>NaN</td>\n",
       "    </tr>\n",
       "    <tr>\n",
       "      <th>1118</th>\n",
       "      <td>13</td>\n",
       "      <td>1118</td>\n",
       "      <td>Services</td>\n",
       "      <td>26926</td>\n",
       "      <td>NaN</td>\n",
       "    </tr>\n",
       "    <tr>\n",
       "      <th>1120</th>\n",
       "      <td>13</td>\n",
       "      <td>1120</td>\n",
       "      <td>Services</td>\n",
       "      <td>70040</td>\n",
       "      <td>NaN</td>\n",
       "    </tr>\n",
       "    <tr>\n",
       "      <th>1197</th>\n",
       "      <td>13</td>\n",
       "      <td>1197</td>\n",
       "      <td>Services</td>\n",
       "      <td>50552</td>\n",
       "      <td>NaN</td>\n",
       "    </tr>\n",
       "  </tbody>\n",
       "</table>\n",
       "</div>"
      ],
      "text/plain": [
       "      site_id  building_id primary_use  square_feet  year_built\n",
       "892         9          892    Services       481999         NaN\n",
       "944         9          944    Services       389641         NaN\n",
       "970         9          970    Services       346056         NaN\n",
       "982         9          982    Services       373416         NaN\n",
       "984         9          984    Services       214252         NaN\n",
       "1115       13         1115    Services        42028         NaN\n",
       "1116       13         1116    Services        11681         NaN\n",
       "1118       13         1118    Services        26926         NaN\n",
       "1120       13         1120    Services        70040         NaN\n",
       "1197       13         1197    Services        50552         NaN"
      ]
     },
     "execution_count": 37,
     "metadata": {},
     "output_type": "execute_result"
    }
   ],
   "source": [
    "dfmeta[dfmeta.year_built.isnull()==True]"
   ]
  },
  {
   "cell_type": "code",
   "execution_count": 38,
   "metadata": {},
   "outputs": [],
   "source": [
    "dfmeta = dfmeta.fillna(2000)"
   ]
  },
  {
   "cell_type": "code",
   "execution_count": 39,
   "metadata": {},
   "outputs": [
    {
     "data": {
      "text/html": [
       "<div>\n",
       "<style scoped>\n",
       "    .dataframe tbody tr th:only-of-type {\n",
       "        vertical-align: middle;\n",
       "    }\n",
       "\n",
       "    .dataframe tbody tr th {\n",
       "        vertical-align: top;\n",
       "    }\n",
       "\n",
       "    .dataframe thead th {\n",
       "        text-align: right;\n",
       "    }\n",
       "</style>\n",
       "<table border=\"1\" class=\"dataframe\">\n",
       "  <thead>\n",
       "    <tr style=\"text-align: right;\">\n",
       "      <th></th>\n",
       "      <th>site_id</th>\n",
       "      <th>building_id</th>\n",
       "      <th>primary_use</th>\n",
       "      <th>square_feet</th>\n",
       "      <th>year_built</th>\n",
       "    </tr>\n",
       "  </thead>\n",
       "  <tbody>\n",
       "    <tr>\n",
       "      <th>892</th>\n",
       "      <td>9</td>\n",
       "      <td>892</td>\n",
       "      <td>Services</td>\n",
       "      <td>481999</td>\n",
       "      <td>2000.0</td>\n",
       "    </tr>\n",
       "    <tr>\n",
       "      <th>944</th>\n",
       "      <td>9</td>\n",
       "      <td>944</td>\n",
       "      <td>Services</td>\n",
       "      <td>389641</td>\n",
       "      <td>2000.0</td>\n",
       "    </tr>\n",
       "    <tr>\n",
       "      <th>970</th>\n",
       "      <td>9</td>\n",
       "      <td>970</td>\n",
       "      <td>Services</td>\n",
       "      <td>346056</td>\n",
       "      <td>2000.0</td>\n",
       "    </tr>\n",
       "    <tr>\n",
       "      <th>982</th>\n",
       "      <td>9</td>\n",
       "      <td>982</td>\n",
       "      <td>Services</td>\n",
       "      <td>373416</td>\n",
       "      <td>2000.0</td>\n",
       "    </tr>\n",
       "    <tr>\n",
       "      <th>984</th>\n",
       "      <td>9</td>\n",
       "      <td>984</td>\n",
       "      <td>Services</td>\n",
       "      <td>214252</td>\n",
       "      <td>2000.0</td>\n",
       "    </tr>\n",
       "    <tr>\n",
       "      <th>1115</th>\n",
       "      <td>13</td>\n",
       "      <td>1115</td>\n",
       "      <td>Services</td>\n",
       "      <td>42028</td>\n",
       "      <td>2000.0</td>\n",
       "    </tr>\n",
       "    <tr>\n",
       "      <th>1116</th>\n",
       "      <td>13</td>\n",
       "      <td>1116</td>\n",
       "      <td>Services</td>\n",
       "      <td>11681</td>\n",
       "      <td>2000.0</td>\n",
       "    </tr>\n",
       "    <tr>\n",
       "      <th>1118</th>\n",
       "      <td>13</td>\n",
       "      <td>1118</td>\n",
       "      <td>Services</td>\n",
       "      <td>26926</td>\n",
       "      <td>2000.0</td>\n",
       "    </tr>\n",
       "    <tr>\n",
       "      <th>1120</th>\n",
       "      <td>13</td>\n",
       "      <td>1120</td>\n",
       "      <td>Services</td>\n",
       "      <td>70040</td>\n",
       "      <td>2000.0</td>\n",
       "    </tr>\n",
       "    <tr>\n",
       "      <th>1197</th>\n",
       "      <td>13</td>\n",
       "      <td>1197</td>\n",
       "      <td>Services</td>\n",
       "      <td>50552</td>\n",
       "      <td>2000.0</td>\n",
       "    </tr>\n",
       "  </tbody>\n",
       "</table>\n",
       "</div>"
      ],
      "text/plain": [
       "      site_id  building_id primary_use  square_feet  year_built\n",
       "892         9          892    Services       481999      2000.0\n",
       "944         9          944    Services       389641      2000.0\n",
       "970         9          970    Services       346056      2000.0\n",
       "982         9          982    Services       373416      2000.0\n",
       "984         9          984    Services       214252      2000.0\n",
       "1115       13         1115    Services        42028      2000.0\n",
       "1116       13         1116    Services        11681      2000.0\n",
       "1118       13         1118    Services        26926      2000.0\n",
       "1120       13         1120    Services        70040      2000.0\n",
       "1197       13         1197    Services        50552      2000.0"
      ]
     },
     "execution_count": 39,
     "metadata": {},
     "output_type": "execute_result"
    }
   ],
   "source": [
    "dfmeta[dfmeta.primary_use=='Services']"
   ]
  },
  {
   "cell_type": "code",
   "execution_count": 40,
   "metadata": {},
   "outputs": [],
   "source": [
    "dfmeta['year_built'] = dfmeta['year_built'].astype('float16')"
   ]
  },
  {
   "cell_type": "code",
   "execution_count": 41,
   "metadata": {},
   "outputs": [
    {
     "data": {
      "text/plain": [
       "[Text(0, 0, 'Education'),\n",
       " Text(0, 0, 'Lodging/residential'),\n",
       " Text(0, 0, 'Office'),\n",
       " Text(0, 0, 'Entertainment/public assembly'),\n",
       " Text(0, 0, 'Other'),\n",
       " Text(0, 0, 'Retail'),\n",
       " Text(0, 0, 'Parking'),\n",
       " Text(0, 0, 'Public services'),\n",
       " Text(0, 0, 'Warehouse/storage'),\n",
       " Text(0, 0, 'Food sales and service'),\n",
       " Text(0, 0, 'Religious worship'),\n",
       " Text(0, 0, 'Healthcare'),\n",
       " Text(0, 0, 'Utility'),\n",
       " Text(0, 0, 'Technology/science'),\n",
       " Text(0, 0, 'Manufacturing/industrial'),\n",
       " Text(0, 0, 'Services')]"
      ]
     },
     "execution_count": 41,
     "metadata": {},
     "output_type": "execute_result"
    },
    {
     "data": {
      "image/png": "[encoded data removed]",
      "text/plain": [
       "<Figure size 432x288 with 1 Axes>"
      ]
     },
     "metadata": {
      "needs_background": "light"
     },
     "output_type": "display_data"
    }
   ],
   "source": [
    "chart = sns.countplot(dfmeta.primary_use)\n",
    "chart.set_xticklabels(chart.get_xticklabels(), rotation=45, horizontalalignment = 'right')"
   ]
  },
  {
   "cell_type": "code",
   "execution_count": 211,
   "metadata": {},
   "outputs": [],
   "source": [
    "dfencode = pd.get_dummies(dfmeta, columns = ['primary_use'], prefix = ['primary'])"
   ]
  },
  {
   "cell_type": "code",
   "execution_count": 212,
   "metadata": {},
   "outputs": [
    {
     "data": {
      "image/png": "[encoded data removed]",
      "text/plain": [
       "<Figure size 432x288 with 2 Axes>"
      ]
     },
     "metadata": {
      "needs_background": "light"
     },
     "output_type": "display_data"
    }
   ],
   "source": [
    "sns.heatmap(dfencode)\n",
    "plt.show()"
   ]
  },
  {
   "cell_type": "code",
   "execution_count": 213,
   "metadata": {},
   "outputs": [
    {
     "data": {
      "text/plain": [
       "count      1449.000000\n",
       "mean      92111.776398\n",
       "std      110769.950997\n",
       "min         283.000000\n",
       "25%       23012.000000\n",
       "50%       57673.000000\n",
       "75%      115676.000000\n",
       "max      875000.000000\n",
       "Name: square_feet, dtype: float64"
      ]
     },
     "execution_count": 213,
     "metadata": {},
     "output_type": "execute_result"
    }
   ],
   "source": [
    "dfencode.square_feet.describe()"
   ]
  },
  {
   "cell_type": "code",
   "execution_count": 214,
   "metadata": {},
   "outputs": [
    {
     "data": {
      "text/plain": [
       "0"
      ]
     },
     "execution_count": 214,
     "metadata": {},
     "output_type": "execute_result"
    }
   ],
   "source": [
    "dfencode.square_feet.isnull().sum()"
   ]
  },
  {
   "cell_type": "code",
   "execution_count": 215,
   "metadata": {},
   "outputs": [
    {
     "data": {
      "text/plain": [
       "<matplotlib.axes._subplots.AxesSubplot at 0x6ccb8240>"
      ]
     },
     "execution_count": 215,
     "metadata": {},
     "output_type": "execute_result"
    },
    {
     "data": {
      "image/png": "[encoded data removed]",
      "text/plain": [
       "<Figure size 432x288 with 1 Axes>"
      ]
     },
     "metadata": {
      "needs_background": "light"
     },
     "output_type": "display_data"
    }
   ],
   "source": [
    "sns.distplot(dfencode.square_feet)"
   ]
  },
  {
   "cell_type": "code",
   "execution_count": 47,
   "metadata": {},
   "outputs": [],
   "source": [
    "from sklearn.preprocessing import StandardScaler"
   ]
  },
  {
   "cell_type": "code",
   "execution_count": 48,
   "metadata": {},
   "outputs": [],
   "source": [
    "dfencode['square_feet'] = (dfencode['square_feet']-dfencode['square_feet'].mean())/dfencode['square_feet'].std()"
   ]
  },
  {
   "cell_type": "code",
   "execution_count": 49,
   "metadata": {},
   "outputs": [
    {
     "data": {
      "text/plain": [
       "<matplotlib.axes._subplots.AxesSubplot at 0x1a79a4e0>"
      ]
     },
     "execution_count": 49,
     "metadata": {},
     "output_type": "execute_result"
    },
    {
     "data": {
      "image/png": "[encoded data removed]",
      "text/plain": [
       "<Figure size 432x288 with 1 Axes>"
      ]
     },
     "metadata": {
      "needs_background": "light"
     },
     "output_type": "display_data"
    }
   ],
   "source": [
    "sns.distplot(dfencode.square_feet)"
   ]
  },
  {
   "cell_type": "code",
   "execution_count": 50,
   "metadata": {},
   "outputs": [
    {
     "data": {
      "text/html": [
       "<div>\n",
       "<style scoped>\n",
       "    .dataframe tbody tr th:only-of-type {\n",
       "        vertical-align: middle;\n",
       "    }\n",
       "\n",
       "    .dataframe tbody tr th {\n",
       "        vertical-align: top;\n",
       "    }\n",
       "\n",
       "    .dataframe thead th {\n",
       "        text-align: right;\n",
       "    }\n",
       "</style>\n",
       "<table border=\"1\" class=\"dataframe\">\n",
       "  <thead>\n",
       "    <tr style=\"text-align: right;\">\n",
       "      <th></th>\n",
       "      <th>site_id</th>\n",
       "      <th>building_id</th>\n",
       "      <th>square_feet</th>\n",
       "      <th>year_built</th>\n",
       "      <th>primary_Education</th>\n",
       "      <th>primary_Entertainment/public assembly</th>\n",
       "      <th>primary_Food sales and service</th>\n",
       "      <th>primary_Healthcare</th>\n",
       "      <th>primary_Lodging/residential</th>\n",
       "      <th>primary_Manufacturing/industrial</th>\n",
       "      <th>primary_Office</th>\n",
       "      <th>primary_Other</th>\n",
       "      <th>primary_Parking</th>\n",
       "      <th>primary_Public services</th>\n",
       "      <th>primary_Religious worship</th>\n",
       "      <th>primary_Retail</th>\n",
       "      <th>primary_Services</th>\n",
       "      <th>primary_Technology/science</th>\n",
       "      <th>primary_Utility</th>\n",
       "      <th>primary_Warehouse/storage</th>\n",
       "    </tr>\n",
       "  </thead>\n",
       "  <tbody>\n",
       "    <tr>\n",
       "      <th>166</th>\n",
       "      <td>2</td>\n",
       "      <td>166</td>\n",
       "      <td>4.162665</td>\n",
       "      <td>2009.0</td>\n",
       "      <td>0</td>\n",
       "      <td>0</td>\n",
       "      <td>0</td>\n",
       "      <td>0</td>\n",
       "      <td>1</td>\n",
       "      <td>0</td>\n",
       "      <td>0</td>\n",
       "      <td>0</td>\n",
       "      <td>0</td>\n",
       "      <td>0</td>\n",
       "      <td>0</td>\n",
       "      <td>0</td>\n",
       "      <td>0</td>\n",
       "      <td>0</td>\n",
       "      <td>0</td>\n",
       "      <td>0</td>\n",
       "    </tr>\n",
       "    <tr>\n",
       "      <th>243</th>\n",
       "      <td>2</td>\n",
       "      <td>243</td>\n",
       "      <td>4.198839</td>\n",
       "      <td>2004.0</td>\n",
       "      <td>0</td>\n",
       "      <td>0</td>\n",
       "      <td>0</td>\n",
       "      <td>0</td>\n",
       "      <td>0</td>\n",
       "      <td>0</td>\n",
       "      <td>0</td>\n",
       "      <td>0</td>\n",
       "      <td>1</td>\n",
       "      <td>0</td>\n",
       "      <td>0</td>\n",
       "      <td>0</td>\n",
       "      <td>0</td>\n",
       "      <td>0</td>\n",
       "      <td>0</td>\n",
       "      <td>0</td>\n",
       "    </tr>\n",
       "    <tr>\n",
       "      <th>269</th>\n",
       "      <td>2</td>\n",
       "      <td>269</td>\n",
       "      <td>6.476650</td>\n",
       "      <td>1958.0</td>\n",
       "      <td>0</td>\n",
       "      <td>1</td>\n",
       "      <td>0</td>\n",
       "      <td>0</td>\n",
       "      <td>0</td>\n",
       "      <td>0</td>\n",
       "      <td>0</td>\n",
       "      <td>0</td>\n",
       "      <td>0</td>\n",
       "      <td>0</td>\n",
       "      <td>0</td>\n",
       "      <td>0</td>\n",
       "      <td>0</td>\n",
       "      <td>0</td>\n",
       "      <td>0</td>\n",
       "      <td>0</td>\n",
       "    </tr>\n",
       "    <tr>\n",
       "      <th>365</th>\n",
       "      <td>3</td>\n",
       "      <td>365</td>\n",
       "      <td>6.567352</td>\n",
       "      <td>1922.0</td>\n",
       "      <td>0</td>\n",
       "      <td>0</td>\n",
       "      <td>0</td>\n",
       "      <td>1</td>\n",
       "      <td>0</td>\n",
       "      <td>0</td>\n",
       "      <td>0</td>\n",
       "      <td>0</td>\n",
       "      <td>0</td>\n",
       "      <td>0</td>\n",
       "      <td>0</td>\n",
       "      <td>0</td>\n",
       "      <td>0</td>\n",
       "      <td>0</td>\n",
       "      <td>0</td>\n",
       "      <td>0</td>\n",
       "    </tr>\n",
       "    <tr>\n",
       "      <th>375</th>\n",
       "      <td>3</td>\n",
       "      <td>375</td>\n",
       "      <td>6.845198</td>\n",
       "      <td>1989.0</td>\n",
       "      <td>0</td>\n",
       "      <td>0</td>\n",
       "      <td>0</td>\n",
       "      <td>0</td>\n",
       "      <td>0</td>\n",
       "      <td>0</td>\n",
       "      <td>1</td>\n",
       "      <td>0</td>\n",
       "      <td>0</td>\n",
       "      <td>0</td>\n",
       "      <td>0</td>\n",
       "      <td>0</td>\n",
       "      <td>0</td>\n",
       "      <td>0</td>\n",
       "      <td>0</td>\n",
       "      <td>0</td>\n",
       "    </tr>\n",
       "    <tr>\n",
       "      <th>376</th>\n",
       "      <td>3</td>\n",
       "      <td>376</td>\n",
       "      <td>4.458278</td>\n",
       "      <td>1942.0</td>\n",
       "      <td>0</td>\n",
       "      <td>0</td>\n",
       "      <td>0</td>\n",
       "      <td>0</td>\n",
       "      <td>0</td>\n",
       "      <td>0</td>\n",
       "      <td>1</td>\n",
       "      <td>0</td>\n",
       "      <td>0</td>\n",
       "      <td>0</td>\n",
       "      <td>0</td>\n",
       "      <td>0</td>\n",
       "      <td>0</td>\n",
       "      <td>0</td>\n",
       "      <td>0</td>\n",
       "      <td>0</td>\n",
       "    </tr>\n",
       "    <tr>\n",
       "      <th>518</th>\n",
       "      <td>3</td>\n",
       "      <td>518</td>\n",
       "      <td>4.181019</td>\n",
       "      <td>1941.0</td>\n",
       "      <td>0</td>\n",
       "      <td>0</td>\n",
       "      <td>0</td>\n",
       "      <td>0</td>\n",
       "      <td>0</td>\n",
       "      <td>0</td>\n",
       "      <td>0</td>\n",
       "      <td>0</td>\n",
       "      <td>0</td>\n",
       "      <td>1</td>\n",
       "      <td>0</td>\n",
       "      <td>0</td>\n",
       "      <td>0</td>\n",
       "      <td>0</td>\n",
       "      <td>0</td>\n",
       "      <td>0</td>\n",
       "    </tr>\n",
       "    <tr>\n",
       "      <th>794</th>\n",
       "      <td>7</td>\n",
       "      <td>794</td>\n",
       "      <td>5.776235</td>\n",
       "      <td>1969.0</td>\n",
       "      <td>1</td>\n",
       "      <td>0</td>\n",
       "      <td>0</td>\n",
       "      <td>0</td>\n",
       "      <td>0</td>\n",
       "      <td>0</td>\n",
       "      <td>0</td>\n",
       "      <td>0</td>\n",
       "      <td>0</td>\n",
       "      <td>0</td>\n",
       "      <td>0</td>\n",
       "      <td>0</td>\n",
       "      <td>0</td>\n",
       "      <td>0</td>\n",
       "      <td>0</td>\n",
       "      <td>0</td>\n",
       "    </tr>\n",
       "    <tr>\n",
       "      <th>797</th>\n",
       "      <td>7</td>\n",
       "      <td>797</td>\n",
       "      <td>6.067758</td>\n",
       "      <td>1979.0</td>\n",
       "      <td>1</td>\n",
       "      <td>0</td>\n",
       "      <td>0</td>\n",
       "      <td>0</td>\n",
       "      <td>0</td>\n",
       "      <td>0</td>\n",
       "      <td>0</td>\n",
       "      <td>0</td>\n",
       "      <td>0</td>\n",
       "      <td>0</td>\n",
       "      <td>0</td>\n",
       "      <td>0</td>\n",
       "      <td>0</td>\n",
       "      <td>0</td>\n",
       "      <td>0</td>\n",
       "      <td>0</td>\n",
       "    </tr>\n",
       "    <tr>\n",
       "      <th>869</th>\n",
       "      <td>8</td>\n",
       "      <td>869</td>\n",
       "      <td>7.067695</td>\n",
       "      <td>1976.0</td>\n",
       "      <td>0</td>\n",
       "      <td>1</td>\n",
       "      <td>0</td>\n",
       "      <td>0</td>\n",
       "      <td>0</td>\n",
       "      <td>0</td>\n",
       "      <td>0</td>\n",
       "      <td>0</td>\n",
       "      <td>0</td>\n",
       "      <td>0</td>\n",
       "      <td>0</td>\n",
       "      <td>0</td>\n",
       "      <td>0</td>\n",
       "      <td>0</td>\n",
       "      <td>0</td>\n",
       "      <td>0</td>\n",
       "    </tr>\n",
       "    <tr>\n",
       "      <th>927</th>\n",
       "      <td>9</td>\n",
       "      <td>927</td>\n",
       "      <td>5.900149</td>\n",
       "      <td>1975.0</td>\n",
       "      <td>0</td>\n",
       "      <td>0</td>\n",
       "      <td>0</td>\n",
       "      <td>0</td>\n",
       "      <td>1</td>\n",
       "      <td>0</td>\n",
       "      <td>0</td>\n",
       "      <td>0</td>\n",
       "      <td>0</td>\n",
       "      <td>0</td>\n",
       "      <td>0</td>\n",
       "      <td>0</td>\n",
       "      <td>0</td>\n",
       "      <td>0</td>\n",
       "      <td>0</td>\n",
       "      <td>0</td>\n",
       "    </tr>\n",
       "    <tr>\n",
       "      <th>953</th>\n",
       "      <td>9</td>\n",
       "      <td>953</td>\n",
       "      <td>4.258106</td>\n",
       "      <td>1976.0</td>\n",
       "      <td>0</td>\n",
       "      <td>1</td>\n",
       "      <td>0</td>\n",
       "      <td>0</td>\n",
       "      <td>0</td>\n",
       "      <td>0</td>\n",
       "      <td>0</td>\n",
       "      <td>0</td>\n",
       "      <td>0</td>\n",
       "      <td>0</td>\n",
       "      <td>0</td>\n",
       "      <td>0</td>\n",
       "      <td>0</td>\n",
       "      <td>0</td>\n",
       "      <td>0</td>\n",
       "      <td>0</td>\n",
       "    </tr>\n",
       "    <tr>\n",
       "      <th>1108</th>\n",
       "      <td>13</td>\n",
       "      <td>1108</td>\n",
       "      <td>5.303805</td>\n",
       "      <td>2003.0</td>\n",
       "      <td>0</td>\n",
       "      <td>0</td>\n",
       "      <td>0</td>\n",
       "      <td>0</td>\n",
       "      <td>0</td>\n",
       "      <td>0</td>\n",
       "      <td>0</td>\n",
       "      <td>0</td>\n",
       "      <td>1</td>\n",
       "      <td>0</td>\n",
       "      <td>0</td>\n",
       "      <td>0</td>\n",
       "      <td>0</td>\n",
       "      <td>0</td>\n",
       "      <td>0</td>\n",
       "      <td>0</td>\n",
       "    </tr>\n",
       "    <tr>\n",
       "      <th>1148</th>\n",
       "      <td>13</td>\n",
       "      <td>1148</td>\n",
       "      <td>6.946037</td>\n",
       "      <td>1976.0</td>\n",
       "      <td>0</td>\n",
       "      <td>0</td>\n",
       "      <td>0</td>\n",
       "      <td>0</td>\n",
       "      <td>0</td>\n",
       "      <td>0</td>\n",
       "      <td>1</td>\n",
       "      <td>0</td>\n",
       "      <td>0</td>\n",
       "      <td>0</td>\n",
       "      <td>0</td>\n",
       "      <td>0</td>\n",
       "      <td>0</td>\n",
       "      <td>0</td>\n",
       "      <td>0</td>\n",
       "      <td>0</td>\n",
       "    </tr>\n",
       "    <tr>\n",
       "      <th>1159</th>\n",
       "      <td>13</td>\n",
       "      <td>1159</td>\n",
       "      <td>5.230617</td>\n",
       "      <td>1976.0</td>\n",
       "      <td>0</td>\n",
       "      <td>0</td>\n",
       "      <td>0</td>\n",
       "      <td>0</td>\n",
       "      <td>0</td>\n",
       "      <td>0</td>\n",
       "      <td>1</td>\n",
       "      <td>0</td>\n",
       "      <td>0</td>\n",
       "      <td>0</td>\n",
       "      <td>0</td>\n",
       "      <td>0</td>\n",
       "      <td>0</td>\n",
       "      <td>0</td>\n",
       "      <td>0</td>\n",
       "      <td>0</td>\n",
       "    </tr>\n",
       "    <tr>\n",
       "      <th>1168</th>\n",
       "      <td>13</td>\n",
       "      <td>1168</td>\n",
       "      <td>4.378346</td>\n",
       "      <td>1976.0</td>\n",
       "      <td>0</td>\n",
       "      <td>0</td>\n",
       "      <td>0</td>\n",
       "      <td>0</td>\n",
       "      <td>0</td>\n",
       "      <td>0</td>\n",
       "      <td>1</td>\n",
       "      <td>0</td>\n",
       "      <td>0</td>\n",
       "      <td>0</td>\n",
       "      <td>0</td>\n",
       "      <td>0</td>\n",
       "      <td>0</td>\n",
       "      <td>0</td>\n",
       "      <td>0</td>\n",
       "      <td>0</td>\n",
       "    </tr>\n",
       "    <tr>\n",
       "      <th>1200</th>\n",
       "      <td>13</td>\n",
       "      <td>1200</td>\n",
       "      <td>4.091716</td>\n",
       "      <td>1976.0</td>\n",
       "      <td>0</td>\n",
       "      <td>1</td>\n",
       "      <td>0</td>\n",
       "      <td>0</td>\n",
       "      <td>0</td>\n",
       "      <td>0</td>\n",
       "      <td>0</td>\n",
       "      <td>0</td>\n",
       "      <td>0</td>\n",
       "      <td>0</td>\n",
       "      <td>0</td>\n",
       "      <td>0</td>\n",
       "      <td>0</td>\n",
       "      <td>0</td>\n",
       "      <td>0</td>\n",
       "      <td>0</td>\n",
       "    </tr>\n",
       "  </tbody>\n",
       "</table>\n",
       "</div>"
      ],
      "text/plain": [
       "      site_id  building_id  square_feet  year_built  primary_Education  \\\n",
       "166         2          166     4.162665      2009.0                  0   \n",
       "243         2          243     4.198839      2004.0                  0   \n",
       "269         2          269     6.476650      1958.0                  0   \n",
       "365         3          365     6.567352      1922.0                  0   \n",
       "375         3          375     6.845198      1989.0                  0   \n",
       "376         3          376     4.458278      1942.0                  0   \n",
       "518         3          518     4.181019      1941.0                  0   \n",
       "794         7          794     5.776235      1969.0                  1   \n",
       "797         7          797     6.067758      1979.0                  1   \n",
       "869         8          869     7.067695      1976.0                  0   \n",
       "927         9          927     5.900149      1975.0                  0   \n",
       "953         9          953     4.258106      1976.0                  0   \n",
       "1108       13         1108     5.303805      2003.0                  0   \n",
       "1148       13         1148     6.946037      1976.0                  0   \n",
       "1159       13         1159     5.230617      1976.0                  0   \n",
       "1168       13         1168     4.378346      1976.0                  0   \n",
       "1200       13         1200     4.091716      1976.0                  0   \n",
       "\n",
       "      primary_Entertainment/public assembly  primary_Food sales and service  \\\n",
       "166                                       0                               0   \n",
       "243                                       0                               0   \n",
       "269                                       1                               0   \n",
       "365                                       0                               0   \n",
       "375                                       0                               0   \n",
       "376                                       0                               0   \n",
       "518                                       0                               0   \n",
       "794                                       0                               0   \n",
       "797                                       0                               0   \n",
       "869                                       1                               0   \n",
       "927                                       0                               0   \n",
       "953                                       1                               0   \n",
       "1108                                      0                               0   \n",
       "1148                                      0                               0   \n",
       "1159                                      0                               0   \n",
       "1168                                      0                               0   \n",
       "1200                                      1                               0   \n",
       "\n",
       "      primary_Healthcare  primary_Lodging/residential  \\\n",
       "166                    0                            1   \n",
       "243                    0                            0   \n",
       "269                    0                            0   \n",
       "365                    1                            0   \n",
       "375                    0                            0   \n",
       "376                    0                            0   \n",
       "518                    0                            0   \n",
       "794                    0                            0   \n",
       "797                    0                            0   \n",
       "869                    0                            0   \n",
       "927                    0                            1   \n",
       "953                    0                            0   \n",
       "1108                   0                            0   \n",
       "1148                   0                            0   \n",
       "1159                   0                            0   \n",
       "1168                   0                            0   \n",
       "1200                   0                            0   \n",
       "\n",
       "      primary_Manufacturing/industrial  primary_Office  primary_Other  \\\n",
       "166                                  0               0              0   \n",
       "243                                  0               0              0   \n",
       "269                                  0               0              0   \n",
       "365                                  0               0              0   \n",
       "375                                  0               1              0   \n",
       "376                                  0               1              0   \n",
       "518                                  0               0              0   \n",
       "794                                  0               0              0   \n",
       "797                                  0               0              0   \n",
       "869                                  0               0              0   \n",
       "927                                  0               0              0   \n",
       "953                                  0               0              0   \n",
       "1108                                 0               0              0   \n",
       "1148                                 0               1              0   \n",
       "1159                                 0               1              0   \n",
       "1168                                 0               1              0   \n",
       "1200                                 0               0              0   \n",
       "\n",
       "      primary_Parking  primary_Public services  primary_Religious worship  \\\n",
       "166                 0                        0                          0   \n",
       "243                 1                        0                          0   \n",
       "269                 0                        0                          0   \n",
       "365                 0                        0                          0   \n",
       "375                 0                        0                          0   \n",
       "376                 0                        0                          0   \n",
       "518                 0                        1                          0   \n",
       "794                 0                        0                          0   \n",
       "797                 0                        0                          0   \n",
       "869                 0                        0                          0   \n",
       "927                 0                        0                          0   \n",
       "953                 0                        0                          0   \n",
       "1108                1                        0                          0   \n",
       "1148                0                        0                          0   \n",
       "1159                0                        0                          0   \n",
       "1168                0                        0                          0   \n",
       "1200                0                        0                          0   \n",
       "\n",
       "      primary_Retail  primary_Services  primary_Technology/science  \\\n",
       "166                0                 0                           0   \n",
       "243                0                 0                           0   \n",
       "269                0                 0                           0   \n",
       "365                0                 0                           0   \n",
       "375                0                 0                           0   \n",
       "376                0                 0                           0   \n",
       "518                0                 0                           0   \n",
       "794                0                 0                           0   \n",
       "797                0                 0                           0   \n",
       "869                0                 0                           0   \n",
       "927                0                 0                           0   \n",
       "953                0                 0                           0   \n",
       "1108               0                 0                           0   \n",
       "1148               0                 0                           0   \n",
       "1159               0                 0                           0   \n",
       "1168               0                 0                           0   \n",
       "1200               0                 0                           0   \n",
       "\n",
       "      primary_Utility  primary_Warehouse/storage  \n",
       "166                 0                          0  \n",
       "243                 0                          0  \n",
       "269                 0                          0  \n",
       "365                 0                          0  \n",
       "375                 0                          0  \n",
       "376                 0                          0  \n",
       "518                 0                          0  \n",
       "794                 0                          0  \n",
       "797                 0                          0  \n",
       "869                 0                          0  \n",
       "927                 0                          0  \n",
       "953                 0                          0  \n",
       "1108                0                          0  \n",
       "1148                0                          0  \n",
       "1159                0                          0  \n",
       "1168                0                          0  \n",
       "1200                0                          0  "
      ]
     },
     "execution_count": 50,
     "metadata": {},
     "output_type": "execute_result"
    }
   ],
   "source": [
    "dfencode[dfencode.square_feet>4]"
   ]
  },
  {
   "cell_type": "markdown",
   "metadata": {},
   "source": [
    "# Normalize (Optional)"
   ]
  },
  {
   "cell_type": "code",
   "execution_count": 50,
   "metadata": {},
   "outputs": [],
   "source": [
    "dfencode['square_feet'] = (dfencode['square_feet'] - dfencode['square_feet'].min())/(dfencode['square_feet'].max()-dfencode['square_feet'].min())"
   ]
  },
  {
   "cell_type": "code",
   "execution_count": 51,
   "metadata": {},
   "outputs": [
    {
     "data": {
      "text/plain": [
       "<matplotlib.axes._subplots.AxesSubplot at 0x2ec534e0>"
      ]
     },
     "execution_count": 51,
     "metadata": {},
     "output_type": "execute_result"
    },
    {
     "data": {
      "image/png": "[encoded data removed]",
      "text/plain": [
       "<Figure size 432x288 with 1 Axes>"
      ]
     },
     "metadata": {
      "needs_background": "light"
     },
     "output_type": "display_data"
    }
   ],
   "source": [
    "sns.distplot(dfencode.square_feet)"
   ]
  },
  {
   "cell_type": "markdown",
   "metadata": {},
   "source": [
    "# Continue"
   ]
  },
  {
   "cell_type": "code",
   "execution_count": 216,
   "metadata": {},
   "outputs": [],
   "source": [
    "weatherdata = 'C:/Users/pradeepo/Downloads/Kaggle/Energy/weather_train.csv'"
   ]
  },
  {
   "cell_type": "code",
   "execution_count": 217,
   "metadata": {},
   "outputs": [],
   "source": [
    "dfw = pd.read_csv(weatherdata)"
   ]
  },
  {
   "cell_type": "code",
   "execution_count": 218,
   "metadata": {},
   "outputs": [
    {
     "data": {
      "text/html": [
       "<div>\n",
       "<style scoped>\n",
       "    .dataframe tbody tr th:only-of-type {\n",
       "        vertical-align: middle;\n",
       "    }\n",
       "\n",
       "    .dataframe tbody tr th {\n",
       "        vertical-align: top;\n",
       "    }\n",
       "\n",
       "    .dataframe thead th {\n",
       "        text-align: right;\n",
       "    }\n",
       "</style>\n",
       "<table border=\"1\" class=\"dataframe\">\n",
       "  <thead>\n",
       "    <tr style=\"text-align: right;\">\n",
       "      <th></th>\n",
       "      <th>site_id</th>\n",
       "      <th>timestamp</th>\n",
       "      <th>air_temperature</th>\n",
       "      <th>cloud_coverage</th>\n",
       "      <th>dew_temperature</th>\n",
       "      <th>precip_depth_1_hr</th>\n",
       "      <th>sea_level_pressure</th>\n",
       "      <th>wind_direction</th>\n",
       "      <th>wind_speed</th>\n",
       "    </tr>\n",
       "  </thead>\n",
       "  <tbody>\n",
       "    <tr>\n",
       "      <th>0</th>\n",
       "      <td>0</td>\n",
       "      <td>2016-01-01 00:00:00</td>\n",
       "      <td>25.0</td>\n",
       "      <td>6.0</td>\n",
       "      <td>20.0</td>\n",
       "      <td>NaN</td>\n",
       "      <td>1019.7</td>\n",
       "      <td>0.0</td>\n",
       "      <td>0.0</td>\n",
       "    </tr>\n",
       "    <tr>\n",
       "      <th>1</th>\n",
       "      <td>0</td>\n",
       "      <td>2016-01-01 01:00:00</td>\n",
       "      <td>24.4</td>\n",
       "      <td>NaN</td>\n",
       "      <td>21.1</td>\n",
       "      <td>-1.0</td>\n",
       "      <td>1020.2</td>\n",
       "      <td>70.0</td>\n",
       "      <td>1.5</td>\n",
       "    </tr>\n",
       "    <tr>\n",
       "      <th>2</th>\n",
       "      <td>0</td>\n",
       "      <td>2016-01-01 02:00:00</td>\n",
       "      <td>22.8</td>\n",
       "      <td>2.0</td>\n",
       "      <td>21.1</td>\n",
       "      <td>0.0</td>\n",
       "      <td>1020.2</td>\n",
       "      <td>0.0</td>\n",
       "      <td>0.0</td>\n",
       "    </tr>\n",
       "    <tr>\n",
       "      <th>3</th>\n",
       "      <td>0</td>\n",
       "      <td>2016-01-01 03:00:00</td>\n",
       "      <td>21.1</td>\n",
       "      <td>2.0</td>\n",
       "      <td>20.6</td>\n",
       "      <td>0.0</td>\n",
       "      <td>1020.1</td>\n",
       "      <td>0.0</td>\n",
       "      <td>0.0</td>\n",
       "    </tr>\n",
       "    <tr>\n",
       "      <th>4</th>\n",
       "      <td>0</td>\n",
       "      <td>2016-01-01 04:00:00</td>\n",
       "      <td>20.0</td>\n",
       "      <td>2.0</td>\n",
       "      <td>20.0</td>\n",
       "      <td>-1.0</td>\n",
       "      <td>1020.0</td>\n",
       "      <td>250.0</td>\n",
       "      <td>2.6</td>\n",
       "    </tr>\n",
       "  </tbody>\n",
       "</table>\n",
       "</div>"
      ],
      "text/plain": [
       "   site_id            timestamp  air_temperature  cloud_coverage  \\\n",
       "0        0  2016-01-01 00:00:00             25.0             6.0   \n",
       "1        0  2016-01-01 01:00:00             24.4             NaN   \n",
       "2        0  2016-01-01 02:00:00             22.8             2.0   \n",
       "3        0  2016-01-01 03:00:00             21.1             2.0   \n",
       "4        0  2016-01-01 04:00:00             20.0             2.0   \n",
       "\n",
       "   dew_temperature  precip_depth_1_hr  sea_level_pressure  wind_direction  \\\n",
       "0             20.0                NaN              1019.7             0.0   \n",
       "1             21.1               -1.0              1020.2            70.0   \n",
       "2             21.1                0.0              1020.2             0.0   \n",
       "3             20.6                0.0              1020.1             0.0   \n",
       "4             20.0               -1.0              1020.0           250.0   \n",
       "\n",
       "   wind_speed  \n",
       "0         0.0  \n",
       "1         1.5  \n",
       "2         0.0  \n",
       "3         0.0  \n",
       "4         2.6  "
      ]
     },
     "execution_count": 218,
     "metadata": {},
     "output_type": "execute_result"
    }
   ],
   "source": [
    "dfw.head()"
   ]
  },
  {
   "cell_type": "code",
   "execution_count": 219,
   "metadata": {},
   "outputs": [
    {
     "data": {
      "text/plain": [
       "site_id                 int64\n",
       "timestamp              object\n",
       "air_temperature       float64\n",
       "cloud_coverage        float64\n",
       "dew_temperature       float64\n",
       "precip_depth_1_hr     float64\n",
       "sea_level_pressure    float64\n",
       "wind_direction        float64\n",
       "wind_speed            float64\n",
       "dtype: object"
      ]
     },
     "execution_count": 219,
     "metadata": {},
     "output_type": "execute_result"
    }
   ],
   "source": [
    "dfw.dtypes"
   ]
  },
  {
   "cell_type": "code",
   "execution_count": 220,
   "metadata": {},
   "outputs": [],
   "source": [
    "dfw['timestamp'] = pd.to_datetime(dfw['timestamp'])"
   ]
  },
  {
   "cell_type": "code",
   "execution_count": 221,
   "metadata": {},
   "outputs": [
    {
     "data": {
      "text/plain": [
       "site_id                        int64\n",
       "timestamp             datetime64[ns]\n",
       "air_temperature              float64\n",
       "cloud_coverage               float64\n",
       "dew_temperature              float64\n",
       "precip_depth_1_hr            float64\n",
       "sea_level_pressure           float64\n",
       "wind_direction               float64\n",
       "wind_speed                   float64\n",
       "dtype: object"
      ]
     },
     "execution_count": 221,
     "metadata": {},
     "output_type": "execute_result"
    }
   ],
   "source": [
    "dfw.dtypes"
   ]
  },
  {
   "cell_type": "code",
   "execution_count": 222,
   "metadata": {},
   "outputs": [
    {
     "name": "stdout",
     "output_type": "stream",
     "text": [
      "<class 'pandas.core.frame.DataFrame'>\n",
      "RangeIndex: 139773 entries, 0 to 139772\n",
      "Data columns (total 9 columns):\n",
      "site_id               139773 non-null int64\n",
      "timestamp             139773 non-null datetime64[ns]\n",
      "air_temperature       139718 non-null float64\n",
      "cloud_coverage        70600 non-null float64\n",
      "dew_temperature       139660 non-null float64\n",
      "precip_depth_1_hr     89484 non-null float64\n",
      "sea_level_pressure    129155 non-null float64\n",
      "wind_direction        133505 non-null float64\n",
      "wind_speed            139469 non-null float64\n",
      "dtypes: datetime64[ns](1), float64(7), int64(1)\n",
      "memory usage: 9.6 MB\n"
     ]
    }
   ],
   "source": [
    "dfw.info()"
   ]
  },
  {
   "cell_type": "markdown",
   "metadata": {},
   "source": [
    "# precip_depth_1_hr"
   ]
  },
  {
   "cell_type": "code",
   "execution_count": 223,
   "metadata": {
    "scrolled": true
   },
   "outputs": [
    {
     "data": {
      "text/plain": [
       " 0.0      77910\n",
       "-1.0       5780\n",
       " 3.0       1469\n",
       " 5.0        720\n",
       " 2.0        517\n",
       " 8.0        447\n",
       " 10.0       369\n",
       " 13.0       264\n",
       " 15.0       194\n",
       " 18.0       167\n",
       " 20.0       127\n",
       " 7.0        103\n",
       " 6.0         90\n",
       " 23.0        80\n",
       " 25.0        75\n",
       " 33.0        73\n",
       " 28.0        70\n",
       " 4.0         68\n",
       " 30.0        68\n",
       " 38.0        50\n",
       " 36.0        47\n",
       " 43.0        39\n",
       " 11.0        38\n",
       " 41.0        38\n",
       " 9.0         36\n",
       " 12.0        36\n",
       " 46.0        32\n",
       " 17.0        29\n",
       " 53.0        25\n",
       " 48.0        20\n",
       "          ...  \n",
       " 343.0        2\n",
       " 164.0        2\n",
       " 201.0        2\n",
       " 150.0        2\n",
       " 217.0        2\n",
       " 163.0        2\n",
       " 47.0         2\n",
       " 236.0        2\n",
       " 162.0        2\n",
       " 42.0         2\n",
       " 310.0        2\n",
       " 221.0        2\n",
       " 103.0        2\n",
       " 105.0        2\n",
       " 198.0        2\n",
       " 152.0        2\n",
       " 241.0        2\n",
       " 340.0        2\n",
       " 142.0        2\n",
       " 196.0        2\n",
       " 107.0        2\n",
       " 211.0        1\n",
       " 78.0         1\n",
       " 140.0        1\n",
       " 147.0        1\n",
       " 175.0        1\n",
       " 73.0         1\n",
       " 333.0        1\n",
       " 109.0        1\n",
       " 180.0        1\n",
       "Name: precip_depth_1_hr, Length: 128, dtype: int64"
      ]
     },
     "execution_count": 223,
     "metadata": {},
     "output_type": "execute_result"
    }
   ],
   "source": [
    "dfw.precip_depth_1_hr.value_counts()"
   ]
  },
  {
   "cell_type": "code",
   "execution_count": 224,
   "metadata": {
    "scrolled": true
   },
   "outputs": [
    {
     "data": {
      "text/plain": [
       "timestamp\n",
       "2016-01-01 00:00:00         NaN\n",
       "2016-01-01 01:00:00   -0.300000\n",
       "2016-01-01 02:00:00   -0.100000\n",
       "2016-01-01 03:00:00   -0.100000\n",
       "2016-01-01 04:00:00   -0.200000\n",
       "2016-01-01 05:00:00    0.000000\n",
       "2016-01-01 06:00:00   -0.200000\n",
       "2016-01-01 07:00:00   -0.100000\n",
       "2016-01-01 08:00:00    0.833333\n",
       "2016-01-01 09:00:00   -0.100000\n",
       "2016-01-01 10:00:00    0.666667\n",
       "2016-01-01 11:00:00   -0.100000\n",
       "2016-01-01 12:00:00    0.250000\n",
       "2016-01-01 13:00:00    0.000000\n",
       "2016-01-01 14:00:00    0.000000\n",
       "2016-01-01 15:00:00    0.000000\n",
       "2016-01-01 16:00:00    0.000000\n",
       "2016-01-01 17:00:00    0.000000\n",
       "2016-01-01 18:00:00    0.500000\n",
       "2016-01-01 19:00:00    0.000000\n",
       "2016-01-01 20:00:00    0.000000\n",
       "2016-01-01 21:00:00    0.000000\n",
       "2016-01-01 22:00:00    0.000000\n",
       "2016-01-01 23:00:00    0.000000\n",
       "2016-01-02 00:00:00   -0.200000\n",
       "2016-01-02 01:00:00    0.000000\n",
       "2016-01-02 02:00:00    0.000000\n",
       "2016-01-02 03:00:00    0.000000\n",
       "2016-01-02 04:00:00    0.000000\n",
       "2016-01-02 05:00:00    0.000000\n",
       "                         ...   \n",
       "2016-12-30 18:00:00   -0.090909\n",
       "2016-12-30 19:00:00   -0.090909\n",
       "2016-12-30 20:00:00   -0.181818\n",
       "2016-12-30 21:00:00   -0.090909\n",
       "2016-12-30 22:00:00   -0.181818\n",
       "2016-12-30 23:00:00   -0.181818\n",
       "2016-12-31 00:00:00   -0.090909\n",
       "2016-12-31 01:00:00   -0.272727\n",
       "2016-12-31 02:00:00    0.090909\n",
       "2016-12-31 03:00:00    0.300000\n",
       "2016-12-31 04:00:00    1.300000\n",
       "2016-12-31 05:00:00    2.800000\n",
       "2016-12-31 06:00:00    0.200000\n",
       "2016-12-31 07:00:00    0.333333\n",
       "2016-12-31 08:00:00   -0.100000\n",
       "2016-12-31 09:00:00   -0.090909\n",
       "2016-12-31 10:00:00   -0.272727\n",
       "2016-12-31 11:00:00   -0.100000\n",
       "2016-12-31 12:00:00   -0.100000\n",
       "2016-12-31 13:00:00   -0.100000\n",
       "2016-12-31 14:00:00   -0.100000\n",
       "2016-12-31 15:00:00   -0.100000\n",
       "2016-12-31 16:00:00    0.583333\n",
       "2016-12-31 17:00:00   -0.100000\n",
       "2016-12-31 18:00:00    1.750000\n",
       "2016-12-31 19:00:00    0.333333\n",
       "2016-12-31 20:00:00    0.333333\n",
       "2016-12-31 21:00:00    0.000000\n",
       "2016-12-31 22:00:00    0.500000\n",
       "2016-12-31 23:00:00    0.615385\n",
       "Name: precip_depth_1_hr, Length: 8784, dtype: float64"
      ]
     },
     "execution_count": 224,
     "metadata": {},
     "output_type": "execute_result"
    }
   ],
   "source": [
    "dfw.groupby('timestamp')['precip_depth_1_hr'].mean()"
   ]
  },
  {
   "cell_type": "code",
   "execution_count": 225,
   "metadata": {},
   "outputs": [],
   "source": [
    "dfw['precip_depth_1_hr'] = dfw['precip_depth_1_hr'].fillna(method = 'ffill')"
   ]
  },
  {
   "cell_type": "code",
   "execution_count": 226,
   "metadata": {},
   "outputs": [],
   "source": [
    "dfw['precip_depth_1_hr'] = dfw['precip_depth_1_hr'].fillna(method = 'bfill')"
   ]
  },
  {
   "cell_type": "code",
   "execution_count": 227,
   "metadata": {},
   "outputs": [
    {
     "data": {
      "text/html": [
       "<div>\n",
       "<style scoped>\n",
       "    .dataframe tbody tr th:only-of-type {\n",
       "        vertical-align: middle;\n",
       "    }\n",
       "\n",
       "    .dataframe tbody tr th {\n",
       "        vertical-align: top;\n",
       "    }\n",
       "\n",
       "    .dataframe thead th {\n",
       "        text-align: right;\n",
       "    }\n",
       "</style>\n",
       "<table border=\"1\" class=\"dataframe\">\n",
       "  <thead>\n",
       "    <tr style=\"text-align: right;\">\n",
       "      <th></th>\n",
       "      <th>site_id</th>\n",
       "      <th>timestamp</th>\n",
       "      <th>air_temperature</th>\n",
       "      <th>cloud_coverage</th>\n",
       "      <th>dew_temperature</th>\n",
       "      <th>precip_depth_1_hr</th>\n",
       "      <th>sea_level_pressure</th>\n",
       "      <th>wind_direction</th>\n",
       "      <th>wind_speed</th>\n",
       "    </tr>\n",
       "  </thead>\n",
       "  <tbody>\n",
       "    <tr>\n",
       "      <th>139768</th>\n",
       "      <td>15</td>\n",
       "      <td>2016-12-31 19:00:00</td>\n",
       "      <td>3.0</td>\n",
       "      <td>NaN</td>\n",
       "      <td>-8.0</td>\n",
       "      <td>-1.0</td>\n",
       "      <td>NaN</td>\n",
       "      <td>180.0</td>\n",
       "      <td>5.7</td>\n",
       "    </tr>\n",
       "    <tr>\n",
       "      <th>139769</th>\n",
       "      <td>15</td>\n",
       "      <td>2016-12-31 20:00:00</td>\n",
       "      <td>2.8</td>\n",
       "      <td>2.0</td>\n",
       "      <td>-8.9</td>\n",
       "      <td>-1.0</td>\n",
       "      <td>1007.4</td>\n",
       "      <td>180.0</td>\n",
       "      <td>7.7</td>\n",
       "    </tr>\n",
       "    <tr>\n",
       "      <th>139770</th>\n",
       "      <td>15</td>\n",
       "      <td>2016-12-31 21:00:00</td>\n",
       "      <td>2.8</td>\n",
       "      <td>NaN</td>\n",
       "      <td>-7.2</td>\n",
       "      <td>-1.0</td>\n",
       "      <td>1007.5</td>\n",
       "      <td>180.0</td>\n",
       "      <td>5.1</td>\n",
       "    </tr>\n",
       "    <tr>\n",
       "      <th>139771</th>\n",
       "      <td>15</td>\n",
       "      <td>2016-12-31 22:00:00</td>\n",
       "      <td>2.2</td>\n",
       "      <td>NaN</td>\n",
       "      <td>-6.7</td>\n",
       "      <td>-1.0</td>\n",
       "      <td>1008.0</td>\n",
       "      <td>170.0</td>\n",
       "      <td>4.6</td>\n",
       "    </tr>\n",
       "    <tr>\n",
       "      <th>139772</th>\n",
       "      <td>15</td>\n",
       "      <td>2016-12-31 23:00:00</td>\n",
       "      <td>1.7</td>\n",
       "      <td>NaN</td>\n",
       "      <td>-5.6</td>\n",
       "      <td>-1.0</td>\n",
       "      <td>1008.5</td>\n",
       "      <td>180.0</td>\n",
       "      <td>8.8</td>\n",
       "    </tr>\n",
       "  </tbody>\n",
       "</table>\n",
       "</div>"
      ],
      "text/plain": [
       "        site_id           timestamp  air_temperature  cloud_coverage  \\\n",
       "139768       15 2016-12-31 19:00:00              3.0             NaN   \n",
       "139769       15 2016-12-31 20:00:00              2.8             2.0   \n",
       "139770       15 2016-12-31 21:00:00              2.8             NaN   \n",
       "139771       15 2016-12-31 22:00:00              2.2             NaN   \n",
       "139772       15 2016-12-31 23:00:00              1.7             NaN   \n",
       "\n",
       "        dew_temperature  precip_depth_1_hr  sea_level_pressure  \\\n",
       "139768             -8.0               -1.0                 NaN   \n",
       "139769             -8.9               -1.0              1007.4   \n",
       "139770             -7.2               -1.0              1007.5   \n",
       "139771             -6.7               -1.0              1008.0   \n",
       "139772             -5.6               -1.0              1008.5   \n",
       "\n",
       "        wind_direction  wind_speed  \n",
       "139768           180.0         5.7  \n",
       "139769           180.0         7.7  \n",
       "139770           180.0         5.1  \n",
       "139771           170.0         4.6  \n",
       "139772           180.0         8.8  "
      ]
     },
     "execution_count": 227,
     "metadata": {},
     "output_type": "execute_result"
    }
   ],
   "source": [
    "dfw.tail(5)"
   ]
  },
  {
   "cell_type": "markdown",
   "metadata": {},
   "source": [
    "# Extracting only hour from datetime"
   ]
  },
  {
   "cell_type": "code",
   "execution_count": 228,
   "metadata": {},
   "outputs": [],
   "source": [
    "dfw['timestamp'] = pd.to_datetime(dfw['timestamp']).dt.time"
   ]
  },
  {
   "cell_type": "code",
   "execution_count": 64,
   "metadata": {
    "scrolled": true
   },
   "outputs": [
    {
     "data": {
      "text/plain": [
       "0         00:00:00\n",
       "1         01:00:00\n",
       "2         02:00:00\n",
       "3         03:00:00\n",
       "4         04:00:00\n",
       "5         05:00:00\n",
       "6         06:00:00\n",
       "7         07:00:00\n",
       "8         08:00:00\n",
       "9         09:00:00\n",
       "10        10:00:00\n",
       "11        11:00:00\n",
       "12        12:00:00\n",
       "13        13:00:00\n",
       "14        14:00:00\n",
       "15        15:00:00\n",
       "16        16:00:00\n",
       "17        17:00:00\n",
       "18        18:00:00\n",
       "19        19:00:00\n",
       "20        20:00:00\n",
       "21        21:00:00\n",
       "22        22:00:00\n",
       "23        23:00:00\n",
       "24        00:00:00\n",
       "25        01:00:00\n",
       "26        02:00:00\n",
       "27        03:00:00\n",
       "28        04:00:00\n",
       "29        05:00:00\n",
       "            ...   \n",
       "139743    18:00:00\n",
       "139744    19:00:00\n",
       "139745    20:00:00\n",
       "139746    21:00:00\n",
       "139747    22:00:00\n",
       "139748    23:00:00\n",
       "139749    00:00:00\n",
       "139750    01:00:00\n",
       "139751    02:00:00\n",
       "139752    03:00:00\n",
       "139753    04:00:00\n",
       "139754    05:00:00\n",
       "139755    06:00:00\n",
       "139756    07:00:00\n",
       "139757    08:00:00\n",
       "139758    09:00:00\n",
       "139759    10:00:00\n",
       "139760    11:00:00\n",
       "139761    12:00:00\n",
       "139762    13:00:00\n",
       "139763    14:00:00\n",
       "139764    15:00:00\n",
       "139765    16:00:00\n",
       "139766    17:00:00\n",
       "139767    18:00:00\n",
       "139768    19:00:00\n",
       "139769    20:00:00\n",
       "139770    21:00:00\n",
       "139771    22:00:00\n",
       "139772    23:00:00\n",
       "Name: timestamp, Length: 139773, dtype: category\n",
       "Categories (24, object): [00:00:00, 01:00:00, 02:00:00, 03:00:00, ..., 20:00:00, 21:00:00, 22:00:00, 23:00:00]"
      ]
     },
     "execution_count": 64,
     "metadata": {},
     "output_type": "execute_result"
    }
   ],
   "source": [
    "dfw['timestamp'].astype('category')"
   ]
  },
  {
   "cell_type": "markdown",
   "metadata": {},
   "source": [
    "# Analysis Contd"
   ]
  },
  {
   "cell_type": "code",
   "execution_count": 229,
   "metadata": {},
   "outputs": [
    {
     "data": {
      "text/plain": [
       "<matplotlib.axes._subplots.AxesSubplot at 0x6cfded30>"
      ]
     },
     "execution_count": 229,
     "metadata": {},
     "output_type": "execute_result"
    },
    {
     "data": {
      "image/png": "[encoded data removed]",
      "text/plain": [
       "<Figure size 1152x720 with 1 Axes>"
      ]
     },
     "metadata": {
      "needs_background": "light"
     },
     "output_type": "display_data"
    }
   ],
   "source": [
    "dfw.set_index('timestamp')['precip_depth_1_hr'].interpolate(method='linear').plot(figsize = (16,10))"
   ]
  },
  {
   "cell_type": "markdown",
   "metadata": {},
   "source": [
    "# Cloud Coverage"
   ]
  },
  {
   "cell_type": "code",
   "execution_count": 230,
   "metadata": {},
   "outputs": [
    {
     "data": {
      "text/plain": [
       "0.0    33871\n",
       "2.0    13585\n",
       "4.0    10241\n",
       "8.0     3531\n",
       "6.0     3521\n",
       "7.0     3485\n",
       "1.0      713\n",
       "3.0      608\n",
       "5.0      526\n",
       "9.0      519\n",
       "Name: cloud_coverage, dtype: int64"
      ]
     },
     "execution_count": 230,
     "metadata": {},
     "output_type": "execute_result"
    }
   ],
   "source": [
    "dfw.cloud_coverage.value_counts()"
   ]
  },
  {
   "cell_type": "code",
   "execution_count": 231,
   "metadata": {},
   "outputs": [
    {
     "data": {
      "text/plain": [
       "<matplotlib.axes._subplots.AxesSubplot at 0x73d2b4e0>"
      ]
     },
     "execution_count": 231,
     "metadata": {},
     "output_type": "execute_result"
    },
    {
     "data": {
      "image/png": "[encoded data removed]",
      "text/plain": [
       "<Figure size 1152x720 with 1 Axes>"
      ]
     },
     "metadata": {
      "needs_background": "light"
     },
     "output_type": "display_data"
    }
   ],
   "source": [
    "dfw.set_index('timestamp')['cloud_coverage'].interpolate(method='linear').plot(figsize = (16,10))"
   ]
  },
  {
   "cell_type": "code",
   "execution_count": 232,
   "metadata": {},
   "outputs": [],
   "source": [
    "dfw['cloud_coverage'] = dfw['cloud_coverage'].fillna(method = 'ffill')"
   ]
  },
  {
   "cell_type": "code",
   "execution_count": 233,
   "metadata": {},
   "outputs": [
    {
     "name": "stdout",
     "output_type": "stream",
     "text": [
      "<class 'pandas.core.frame.DataFrame'>\n",
      "RangeIndex: 139773 entries, 0 to 139772\n",
      "Data columns (total 9 columns):\n",
      "site_id               139773 non-null int64\n",
      "timestamp             139773 non-null object\n",
      "air_temperature       139718 non-null float64\n",
      "cloud_coverage        139773 non-null float64\n",
      "dew_temperature       139660 non-null float64\n",
      "precip_depth_1_hr     139773 non-null float64\n",
      "sea_level_pressure    129155 non-null float64\n",
      "wind_direction        133505 non-null float64\n",
      "wind_speed            139469 non-null float64\n",
      "dtypes: float64(7), int64(1), object(1)\n",
      "memory usage: 9.6+ MB\n"
     ]
    }
   ],
   "source": [
    "dfw.info()"
   ]
  },
  {
   "cell_type": "code",
   "execution_count": 234,
   "metadata": {},
   "outputs": [
    {
     "data": {
      "text/plain": [
       "<matplotlib.axes._subplots.AxesSubplot at 0x6ccdc278>"
      ]
     },
     "execution_count": 234,
     "metadata": {},
     "output_type": "execute_result"
    },
    {
     "data": {
      "image/png": "[encoded data removed]",
      "text/plain": [
       "<Figure size 432x288 with 1 Axes>"
      ]
     },
     "metadata": {
      "needs_background": "light"
     },
     "output_type": "display_data"
    }
   ],
   "source": [
    "sns.countplot(dfw.cloud_coverage)"
   ]
  },
  {
   "cell_type": "markdown",
   "metadata": {},
   "source": [
    "# All the missing values"
   ]
  },
  {
   "cell_type": "code",
   "execution_count": 235,
   "metadata": {
    "scrolled": true
   },
   "outputs": [],
   "source": [
    "dfw.fillna(method='ffill', inplace=True)"
   ]
  },
  {
   "cell_type": "code",
   "execution_count": 236,
   "metadata": {},
   "outputs": [
    {
     "name": "stdout",
     "output_type": "stream",
     "text": [
      "<class 'pandas.core.frame.DataFrame'>\n",
      "RangeIndex: 139773 entries, 0 to 139772\n",
      "Data columns (total 9 columns):\n",
      "site_id               139773 non-null int64\n",
      "timestamp             139773 non-null object\n",
      "air_temperature       139773 non-null float64\n",
      "cloud_coverage        139773 non-null float64\n",
      "dew_temperature       139773 non-null float64\n",
      "precip_depth_1_hr     139773 non-null float64\n",
      "sea_level_pressure    139773 non-null float64\n",
      "wind_direction        139773 non-null float64\n",
      "wind_speed            139773 non-null float64\n",
      "dtypes: float64(7), int64(1), object(1)\n",
      "memory usage: 9.6+ MB\n"
     ]
    }
   ],
   "source": [
    "dfw.info()"
   ]
  },
  {
   "cell_type": "markdown",
   "metadata": {},
   "source": [
    "# Joining all three tables"
   ]
  },
  {
   "cell_type": "code",
   "execution_count": 237,
   "metadata": {},
   "outputs": [],
   "source": [
    "dfencodew = pd.merge(dfencode,dfw,on='site_id')"
   ]
  },
  {
   "cell_type": "code",
   "execution_count": 238,
   "metadata": {},
   "outputs": [],
   "source": [
    "dtrain = train.join(dfencodew, on='building_id',lsuffix='_left', rsuffix='_right')"
   ]
  },
  {
   "cell_type": "code",
   "execution_count": 239,
   "metadata": {},
   "outputs": [
    {
     "data": {
      "text/html": [
       "<div>\n",
       "<style scoped>\n",
       "    .dataframe tbody tr th:only-of-type {\n",
       "        vertical-align: middle;\n",
       "    }\n",
       "\n",
       "    .dataframe tbody tr th {\n",
       "        vertical-align: top;\n",
       "    }\n",
       "\n",
       "    .dataframe thead th {\n",
       "        text-align: right;\n",
       "    }\n",
       "</style>\n",
       "<table border=\"1\" class=\"dataframe\">\n",
       "  <thead>\n",
       "    <tr style=\"text-align: right;\">\n",
       "      <th></th>\n",
       "      <th>building_id_left</th>\n",
       "      <th>meter</th>\n",
       "      <th>timestamp_left</th>\n",
       "      <th>site_id</th>\n",
       "      <th>building_id_right</th>\n",
       "      <th>square_feet</th>\n",
       "      <th>year_built</th>\n",
       "      <th>primary_Education</th>\n",
       "      <th>primary_Entertainment/public assembly</th>\n",
       "      <th>primary_Food sales and service</th>\n",
       "      <th>...</th>\n",
       "      <th>primary_Utility</th>\n",
       "      <th>primary_Warehouse/storage</th>\n",
       "      <th>timestamp_right</th>\n",
       "      <th>air_temperature</th>\n",
       "      <th>cloud_coverage</th>\n",
       "      <th>dew_temperature</th>\n",
       "      <th>precip_depth_1_hr</th>\n",
       "      <th>sea_level_pressure</th>\n",
       "      <th>wind_direction</th>\n",
       "      <th>wind_speed</th>\n",
       "    </tr>\n",
       "  </thead>\n",
       "  <tbody>\n",
       "    <tr>\n",
       "      <th>0</th>\n",
       "      <td>0</td>\n",
       "      <td>0</td>\n",
       "      <td>2016-01-01</td>\n",
       "      <td>0</td>\n",
       "      <td>0</td>\n",
       "      <td>7432</td>\n",
       "      <td>2008.0</td>\n",
       "      <td>1</td>\n",
       "      <td>0</td>\n",
       "      <td>0</td>\n",
       "      <td>...</td>\n",
       "      <td>0</td>\n",
       "      <td>0</td>\n",
       "      <td>00:00:00</td>\n",
       "      <td>25.0</td>\n",
       "      <td>6.0</td>\n",
       "      <td>20.0</td>\n",
       "      <td>-1.0</td>\n",
       "      <td>1019.7</td>\n",
       "      <td>0.0</td>\n",
       "      <td>0.0</td>\n",
       "    </tr>\n",
       "    <tr>\n",
       "      <th>1</th>\n",
       "      <td>1</td>\n",
       "      <td>0</td>\n",
       "      <td>2016-01-01</td>\n",
       "      <td>0</td>\n",
       "      <td>0</td>\n",
       "      <td>7432</td>\n",
       "      <td>2008.0</td>\n",
       "      <td>1</td>\n",
       "      <td>0</td>\n",
       "      <td>0</td>\n",
       "      <td>...</td>\n",
       "      <td>0</td>\n",
       "      <td>0</td>\n",
       "      <td>01:00:00</td>\n",
       "      <td>24.4</td>\n",
       "      <td>6.0</td>\n",
       "      <td>21.1</td>\n",
       "      <td>-1.0</td>\n",
       "      <td>1020.2</td>\n",
       "      <td>70.0</td>\n",
       "      <td>1.5</td>\n",
       "    </tr>\n",
       "    <tr>\n",
       "      <th>2</th>\n",
       "      <td>2</td>\n",
       "      <td>0</td>\n",
       "      <td>2016-01-01</td>\n",
       "      <td>0</td>\n",
       "      <td>0</td>\n",
       "      <td>7432</td>\n",
       "      <td>2008.0</td>\n",
       "      <td>1</td>\n",
       "      <td>0</td>\n",
       "      <td>0</td>\n",
       "      <td>...</td>\n",
       "      <td>0</td>\n",
       "      <td>0</td>\n",
       "      <td>02:00:00</td>\n",
       "      <td>22.8</td>\n",
       "      <td>2.0</td>\n",
       "      <td>21.1</td>\n",
       "      <td>0.0</td>\n",
       "      <td>1020.2</td>\n",
       "      <td>0.0</td>\n",
       "      <td>0.0</td>\n",
       "    </tr>\n",
       "    <tr>\n",
       "      <th>3</th>\n",
       "      <td>3</td>\n",
       "      <td>0</td>\n",
       "      <td>2016-01-01</td>\n",
       "      <td>0</td>\n",
       "      <td>0</td>\n",
       "      <td>7432</td>\n",
       "      <td>2008.0</td>\n",
       "      <td>1</td>\n",
       "      <td>0</td>\n",
       "      <td>0</td>\n",
       "      <td>...</td>\n",
       "      <td>0</td>\n",
       "      <td>0</td>\n",
       "      <td>03:00:00</td>\n",
       "      <td>21.1</td>\n",
       "      <td>2.0</td>\n",
       "      <td>20.6</td>\n",
       "      <td>0.0</td>\n",
       "      <td>1020.1</td>\n",
       "      <td>0.0</td>\n",
       "      <td>0.0</td>\n",
       "    </tr>\n",
       "    <tr>\n",
       "      <th>4</th>\n",
       "      <td>4</td>\n",
       "      <td>0</td>\n",
       "      <td>2016-01-01</td>\n",
       "      <td>0</td>\n",
       "      <td>0</td>\n",
       "      <td>7432</td>\n",
       "      <td>2008.0</td>\n",
       "      <td>1</td>\n",
       "      <td>0</td>\n",
       "      <td>0</td>\n",
       "      <td>...</td>\n",
       "      <td>0</td>\n",
       "      <td>0</td>\n",
       "      <td>04:00:00</td>\n",
       "      <td>20.0</td>\n",
       "      <td>2.0</td>\n",
       "      <td>20.0</td>\n",
       "      <td>-1.0</td>\n",
       "      <td>1020.0</td>\n",
       "      <td>250.0</td>\n",
       "      <td>2.6</td>\n",
       "    </tr>\n",
       "  </tbody>\n",
       "</table>\n",
       "<p>5 rows × 31 columns</p>\n",
       "</div>"
      ],
      "text/plain": [
       "   building_id_left  meter timestamp_left  site_id  building_id_right  \\\n",
       "0                 0      0     2016-01-01        0                  0   \n",
       "1                 1      0     2016-01-01        0                  0   \n",
       "2                 2      0     2016-01-01        0                  0   \n",
       "3                 3      0     2016-01-01        0                  0   \n",
       "4                 4      0     2016-01-01        0                  0   \n",
       "\n",
       "   square_feet  year_built  primary_Education  \\\n",
       "0         7432      2008.0                  1   \n",
       "1         7432      2008.0                  1   \n",
       "2         7432      2008.0                  1   \n",
       "3         7432      2008.0                  1   \n",
       "4         7432      2008.0                  1   \n",
       "\n",
       "   primary_Entertainment/public assembly  primary_Food sales and service  ...  \\\n",
       "0                                      0                               0  ...   \n",
       "1                                      0                               0  ...   \n",
       "2                                      0                               0  ...   \n",
       "3                                      0                               0  ...   \n",
       "4                                      0                               0  ...   \n",
       "\n",
       "   primary_Utility  primary_Warehouse/storage  timestamp_right  \\\n",
       "0                0                          0         00:00:00   \n",
       "1                0                          0         01:00:00   \n",
       "2                0                          0         02:00:00   \n",
       "3                0                          0         03:00:00   \n",
       "4                0                          0         04:00:00   \n",
       "\n",
       "   air_temperature  cloud_coverage  dew_temperature  precip_depth_1_hr  \\\n",
       "0             25.0             6.0             20.0               -1.0   \n",
       "1             24.4             6.0             21.1               -1.0   \n",
       "2             22.8             2.0             21.1                0.0   \n",
       "3             21.1             2.0             20.6                0.0   \n",
       "4             20.0             2.0             20.0               -1.0   \n",
       "\n",
       "   sea_level_pressure  wind_direction  wind_speed  \n",
       "0              1019.7             0.0         0.0  \n",
       "1              1020.2            70.0         1.5  \n",
       "2              1020.2             0.0         0.0  \n",
       "3              1020.1             0.0         0.0  \n",
       "4              1020.0           250.0         2.6  \n",
       "\n",
       "[5 rows x 31 columns]"
      ]
     },
     "execution_count": 239,
     "metadata": {},
     "output_type": "execute_result"
    }
   ],
   "source": [
    "dtrain.head()"
   ]
  },
  {
   "cell_type": "code",
   "execution_count": 240,
   "metadata": {},
   "outputs": [],
   "source": [
    "dtrain.drop('timestamp_left', axis=1, inplace=True)"
   ]
  },
  {
   "cell_type": "code",
   "execution_count": 241,
   "metadata": {},
   "outputs": [
    {
     "data": {
      "text/plain": [
       "Index(['building_id_left', 'meter', 'site_id', 'building_id_right',\n",
       "       'square_feet', 'year_built', 'primary_Education',\n",
       "       'primary_Entertainment/public assembly',\n",
       "       'primary_Food sales and service', 'primary_Healthcare',\n",
       "       'primary_Lodging/residential', 'primary_Manufacturing/industrial',\n",
       "       'primary_Office', 'primary_Other', 'primary_Parking',\n",
       "       'primary_Public services', 'primary_Religious worship',\n",
       "       'primary_Retail', 'primary_Services', 'primary_Technology/science',\n",
       "       'primary_Utility', 'primary_Warehouse/storage', 'timestamp_right',\n",
       "       'air_temperature', 'cloud_coverage', 'dew_temperature',\n",
       "       'precip_depth_1_hr', 'sea_level_pressure', 'wind_direction',\n",
       "       'wind_speed'],\n",
       "      dtype='object')"
      ]
     },
     "execution_count": 241,
     "metadata": {},
     "output_type": "execute_result"
    }
   ],
   "source": [
    "dtrain.columns"
   ]
  },
  {
   "cell_type": "code",
   "execution_count": 242,
   "metadata": {},
   "outputs": [],
   "source": [
    "dtrain.columns = ['building_id_left', 'meter', 'site_id', 'building_id_right',\n",
    "       'square_feet', 'year_built', 'primary_Education',\n",
    "       'primary_Entertainment/public assembly',\n",
    "       'primary_Food sales and service', 'primary_Healthcare',\n",
    "       'primary_Lodging/residential', 'primary_Manufacturing/industrial',\n",
    "       'primary_Office', 'primary_Other', 'primary_Parking',\n",
    "       'primary_Public services', 'primary_Religious worship',\n",
    "       'primary_Retail', 'primary_Services', 'primary_Technology/science',\n",
    "       'primary_Utility', 'primary_Warehouse/storage', 'timestamp',\n",
    "       'air_temperature', 'cloud_coverage', 'dew_temperature',\n",
    "       'precip_depth_1_hr', 'sea_level_pressure', 'wind_direction',\n",
    "       'wind_speed']"
   ]
  },
  {
   "cell_type": "code",
   "execution_count": 243,
   "metadata": {},
   "outputs": [
    {
     "data": {
      "text/html": [
       "<div>\n",
       "<style scoped>\n",
       "    .dataframe tbody tr th:only-of-type {\n",
       "        vertical-align: middle;\n",
       "    }\n",
       "\n",
       "    .dataframe tbody tr th {\n",
       "        vertical-align: top;\n",
       "    }\n",
       "\n",
       "    .dataframe thead th {\n",
       "        text-align: right;\n",
       "    }\n",
       "</style>\n",
       "<table border=\"1\" class=\"dataframe\">\n",
       "  <thead>\n",
       "    <tr style=\"text-align: right;\">\n",
       "      <th></th>\n",
       "      <th>building_id_left</th>\n",
       "      <th>meter</th>\n",
       "      <th>site_id</th>\n",
       "      <th>building_id_right</th>\n",
       "      <th>square_feet</th>\n",
       "      <th>year_built</th>\n",
       "      <th>primary_Education</th>\n",
       "      <th>primary_Entertainment/public assembly</th>\n",
       "      <th>primary_Food sales and service</th>\n",
       "      <th>primary_Healthcare</th>\n",
       "      <th>...</th>\n",
       "      <th>primary_Utility</th>\n",
       "      <th>primary_Warehouse/storage</th>\n",
       "      <th>timestamp</th>\n",
       "      <th>air_temperature</th>\n",
       "      <th>cloud_coverage</th>\n",
       "      <th>dew_temperature</th>\n",
       "      <th>precip_depth_1_hr</th>\n",
       "      <th>sea_level_pressure</th>\n",
       "      <th>wind_direction</th>\n",
       "      <th>wind_speed</th>\n",
       "    </tr>\n",
       "  </thead>\n",
       "  <tbody>\n",
       "    <tr>\n",
       "      <th>0</th>\n",
       "      <td>0</td>\n",
       "      <td>0</td>\n",
       "      <td>0</td>\n",
       "      <td>0</td>\n",
       "      <td>7432</td>\n",
       "      <td>2008.0</td>\n",
       "      <td>1</td>\n",
       "      <td>0</td>\n",
       "      <td>0</td>\n",
       "      <td>0</td>\n",
       "      <td>...</td>\n",
       "      <td>0</td>\n",
       "      <td>0</td>\n",
       "      <td>00:00:00</td>\n",
       "      <td>25.0</td>\n",
       "      <td>6.0</td>\n",
       "      <td>20.0</td>\n",
       "      <td>-1.0</td>\n",
       "      <td>1019.7</td>\n",
       "      <td>0.0</td>\n",
       "      <td>0.0</td>\n",
       "    </tr>\n",
       "    <tr>\n",
       "      <th>1</th>\n",
       "      <td>1</td>\n",
       "      <td>0</td>\n",
       "      <td>0</td>\n",
       "      <td>0</td>\n",
       "      <td>7432</td>\n",
       "      <td>2008.0</td>\n",
       "      <td>1</td>\n",
       "      <td>0</td>\n",
       "      <td>0</td>\n",
       "      <td>0</td>\n",
       "      <td>...</td>\n",
       "      <td>0</td>\n",
       "      <td>0</td>\n",
       "      <td>01:00:00</td>\n",
       "      <td>24.4</td>\n",
       "      <td>6.0</td>\n",
       "      <td>21.1</td>\n",
       "      <td>-1.0</td>\n",
       "      <td>1020.2</td>\n",
       "      <td>70.0</td>\n",
       "      <td>1.5</td>\n",
       "    </tr>\n",
       "    <tr>\n",
       "      <th>2</th>\n",
       "      <td>2</td>\n",
       "      <td>0</td>\n",
       "      <td>0</td>\n",
       "      <td>0</td>\n",
       "      <td>7432</td>\n",
       "      <td>2008.0</td>\n",
       "      <td>1</td>\n",
       "      <td>0</td>\n",
       "      <td>0</td>\n",
       "      <td>0</td>\n",
       "      <td>...</td>\n",
       "      <td>0</td>\n",
       "      <td>0</td>\n",
       "      <td>02:00:00</td>\n",
       "      <td>22.8</td>\n",
       "      <td>2.0</td>\n",
       "      <td>21.1</td>\n",
       "      <td>0.0</td>\n",
       "      <td>1020.2</td>\n",
       "      <td>0.0</td>\n",
       "      <td>0.0</td>\n",
       "    </tr>\n",
       "    <tr>\n",
       "      <th>3</th>\n",
       "      <td>3</td>\n",
       "      <td>0</td>\n",
       "      <td>0</td>\n",
       "      <td>0</td>\n",
       "      <td>7432</td>\n",
       "      <td>2008.0</td>\n",
       "      <td>1</td>\n",
       "      <td>0</td>\n",
       "      <td>0</td>\n",
       "      <td>0</td>\n",
       "      <td>...</td>\n",
       "      <td>0</td>\n",
       "      <td>0</td>\n",
       "      <td>03:00:00</td>\n",
       "      <td>21.1</td>\n",
       "      <td>2.0</td>\n",
       "      <td>20.6</td>\n",
       "      <td>0.0</td>\n",
       "      <td>1020.1</td>\n",
       "      <td>0.0</td>\n",
       "      <td>0.0</td>\n",
       "    </tr>\n",
       "    <tr>\n",
       "      <th>4</th>\n",
       "      <td>4</td>\n",
       "      <td>0</td>\n",
       "      <td>0</td>\n",
       "      <td>0</td>\n",
       "      <td>7432</td>\n",
       "      <td>2008.0</td>\n",
       "      <td>1</td>\n",
       "      <td>0</td>\n",
       "      <td>0</td>\n",
       "      <td>0</td>\n",
       "      <td>...</td>\n",
       "      <td>0</td>\n",
       "      <td>0</td>\n",
       "      <td>04:00:00</td>\n",
       "      <td>20.0</td>\n",
       "      <td>2.0</td>\n",
       "      <td>20.0</td>\n",
       "      <td>-1.0</td>\n",
       "      <td>1020.0</td>\n",
       "      <td>250.0</td>\n",
       "      <td>2.6</td>\n",
       "    </tr>\n",
       "  </tbody>\n",
       "</table>\n",
       "<p>5 rows × 30 columns</p>\n",
       "</div>"
      ],
      "text/plain": [
       "   building_id_left  meter  site_id  building_id_right  square_feet  \\\n",
       "0                 0      0        0                  0         7432   \n",
       "1                 1      0        0                  0         7432   \n",
       "2                 2      0        0                  0         7432   \n",
       "3                 3      0        0                  0         7432   \n",
       "4                 4      0        0                  0         7432   \n",
       "\n",
       "   year_built  primary_Education  primary_Entertainment/public assembly  \\\n",
       "0      2008.0                  1                                      0   \n",
       "1      2008.0                  1                                      0   \n",
       "2      2008.0                  1                                      0   \n",
       "3      2008.0                  1                                      0   \n",
       "4      2008.0                  1                                      0   \n",
       "\n",
       "   primary_Food sales and service  primary_Healthcare  ...  primary_Utility  \\\n",
       "0                               0                   0  ...                0   \n",
       "1                               0                   0  ...                0   \n",
       "2                               0                   0  ...                0   \n",
       "3                               0                   0  ...                0   \n",
       "4                               0                   0  ...                0   \n",
       "\n",
       "   primary_Warehouse/storage  timestamp  air_temperature  cloud_coverage  \\\n",
       "0                          0   00:00:00             25.0             6.0   \n",
       "1                          0   01:00:00             24.4             6.0   \n",
       "2                          0   02:00:00             22.8             2.0   \n",
       "3                          0   03:00:00             21.1             2.0   \n",
       "4                          0   04:00:00             20.0             2.0   \n",
       "\n",
       "   dew_temperature  precip_depth_1_hr  sea_level_pressure  wind_direction  \\\n",
       "0             20.0               -1.0              1019.7             0.0   \n",
       "1             21.1               -1.0              1020.2            70.0   \n",
       "2             21.1                0.0              1020.2             0.0   \n",
       "3             20.6                0.0              1020.1             0.0   \n",
       "4             20.0               -1.0              1020.0           250.0   \n",
       "\n",
       "   wind_speed  \n",
       "0         0.0  \n",
       "1         1.5  \n",
       "2         0.0  \n",
       "3         0.0  \n",
       "4         2.6  \n",
       "\n",
       "[5 rows x 30 columns]"
      ]
     },
     "execution_count": 243,
     "metadata": {},
     "output_type": "execute_result"
    }
   ],
   "source": [
    "dtrain.head()"
   ]
  },
  {
   "cell_type": "code",
   "execution_count": 244,
   "metadata": {},
   "outputs": [
    {
     "data": {
      "text/html": [
       "<div>\n",
       "<style scoped>\n",
       "    .dataframe tbody tr th:only-of-type {\n",
       "        vertical-align: middle;\n",
       "    }\n",
       "\n",
       "    .dataframe tbody tr th {\n",
       "        vertical-align: top;\n",
       "    }\n",
       "\n",
       "    .dataframe thead th {\n",
       "        text-align: right;\n",
       "    }\n",
       "</style>\n",
       "<table border=\"1\" class=\"dataframe\">\n",
       "  <thead>\n",
       "    <tr style=\"text-align: right;\">\n",
       "      <th></th>\n",
       "      <th>building_id_left</th>\n",
       "      <th>meter</th>\n",
       "      <th>site_id</th>\n",
       "      <th>building_id_right</th>\n",
       "      <th>square_feet</th>\n",
       "      <th>year_built</th>\n",
       "      <th>primary_Education</th>\n",
       "      <th>primary_Entertainment/public assembly</th>\n",
       "      <th>primary_Food sales and service</th>\n",
       "      <th>primary_Healthcare</th>\n",
       "      <th>...</th>\n",
       "      <th>primary_Utility</th>\n",
       "      <th>primary_Warehouse/storage</th>\n",
       "      <th>timestamp</th>\n",
       "      <th>air_temperature</th>\n",
       "      <th>cloud_coverage</th>\n",
       "      <th>dew_temperature</th>\n",
       "      <th>precip_depth_1_hr</th>\n",
       "      <th>sea_level_pressure</th>\n",
       "      <th>wind_direction</th>\n",
       "      <th>wind_speed</th>\n",
       "    </tr>\n",
       "  </thead>\n",
       "  <tbody>\n",
       "    <tr>\n",
       "      <th>20216095</th>\n",
       "      <td>1444</td>\n",
       "      <td>0</td>\n",
       "      <td>0</td>\n",
       "      <td>0</td>\n",
       "      <td>7432</td>\n",
       "      <td>2008.0</td>\n",
       "      <td>1</td>\n",
       "      <td>0</td>\n",
       "      <td>0</td>\n",
       "      <td>0</td>\n",
       "      <td>...</td>\n",
       "      <td>0</td>\n",
       "      <td>0</td>\n",
       "      <td>04:00:00</td>\n",
       "      <td>16.7</td>\n",
       "      <td>0.0</td>\n",
       "      <td>12.2</td>\n",
       "      <td>0.0</td>\n",
       "      <td>1021.9</td>\n",
       "      <td>0.0</td>\n",
       "      <td>0.0</td>\n",
       "    </tr>\n",
       "    <tr>\n",
       "      <th>20216096</th>\n",
       "      <td>1445</td>\n",
       "      <td>0</td>\n",
       "      <td>0</td>\n",
       "      <td>0</td>\n",
       "      <td>7432</td>\n",
       "      <td>2008.0</td>\n",
       "      <td>1</td>\n",
       "      <td>0</td>\n",
       "      <td>0</td>\n",
       "      <td>0</td>\n",
       "      <td>...</td>\n",
       "      <td>0</td>\n",
       "      <td>0</td>\n",
       "      <td>05:00:00</td>\n",
       "      <td>15.0</td>\n",
       "      <td>0.0</td>\n",
       "      <td>11.7</td>\n",
       "      <td>0.0</td>\n",
       "      <td>1021.6</td>\n",
       "      <td>0.0</td>\n",
       "      <td>0.0</td>\n",
       "    </tr>\n",
       "    <tr>\n",
       "      <th>20216097</th>\n",
       "      <td>1446</td>\n",
       "      <td>0</td>\n",
       "      <td>0</td>\n",
       "      <td>0</td>\n",
       "      <td>7432</td>\n",
       "      <td>2008.0</td>\n",
       "      <td>1</td>\n",
       "      <td>0</td>\n",
       "      <td>0</td>\n",
       "      <td>0</td>\n",
       "      <td>...</td>\n",
       "      <td>0</td>\n",
       "      <td>0</td>\n",
       "      <td>06:00:00</td>\n",
       "      <td>13.9</td>\n",
       "      <td>2.0</td>\n",
       "      <td>12.2</td>\n",
       "      <td>0.0</td>\n",
       "      <td>1021.1</td>\n",
       "      <td>0.0</td>\n",
       "      <td>0.0</td>\n",
       "    </tr>\n",
       "    <tr>\n",
       "      <th>20216098</th>\n",
       "      <td>1447</td>\n",
       "      <td>0</td>\n",
       "      <td>0</td>\n",
       "      <td>0</td>\n",
       "      <td>7432</td>\n",
       "      <td>2008.0</td>\n",
       "      <td>1</td>\n",
       "      <td>0</td>\n",
       "      <td>0</td>\n",
       "      <td>0</td>\n",
       "      <td>...</td>\n",
       "      <td>0</td>\n",
       "      <td>0</td>\n",
       "      <td>07:00:00</td>\n",
       "      <td>15.0</td>\n",
       "      <td>2.0</td>\n",
       "      <td>12.2</td>\n",
       "      <td>0.0</td>\n",
       "      <td>1021.0</td>\n",
       "      <td>0.0</td>\n",
       "      <td>0.0</td>\n",
       "    </tr>\n",
       "    <tr>\n",
       "      <th>20216099</th>\n",
       "      <td>1448</td>\n",
       "      <td>0</td>\n",
       "      <td>0</td>\n",
       "      <td>0</td>\n",
       "      <td>7432</td>\n",
       "      <td>2008.0</td>\n",
       "      <td>1</td>\n",
       "      <td>0</td>\n",
       "      <td>0</td>\n",
       "      <td>0</td>\n",
       "      <td>...</td>\n",
       "      <td>0</td>\n",
       "      <td>0</td>\n",
       "      <td>08:00:00</td>\n",
       "      <td>14.4</td>\n",
       "      <td>2.0</td>\n",
       "      <td>12.2</td>\n",
       "      <td>0.0</td>\n",
       "      <td>1020.4</td>\n",
       "      <td>360.0</td>\n",
       "      <td>2.1</td>\n",
       "    </tr>\n",
       "  </tbody>\n",
       "</table>\n",
       "<p>5 rows × 30 columns</p>\n",
       "</div>"
      ],
      "text/plain": [
       "          building_id_left  meter  site_id  building_id_right  square_feet  \\\n",
       "20216095              1444      0        0                  0         7432   \n",
       "20216096              1445      0        0                  0         7432   \n",
       "20216097              1446      0        0                  0         7432   \n",
       "20216098              1447      0        0                  0         7432   \n",
       "20216099              1448      0        0                  0         7432   \n",
       "\n",
       "          year_built  primary_Education  \\\n",
       "20216095      2008.0                  1   \n",
       "20216096      2008.0                  1   \n",
       "20216097      2008.0                  1   \n",
       "20216098      2008.0                  1   \n",
       "20216099      2008.0                  1   \n",
       "\n",
       "          primary_Entertainment/public assembly  \\\n",
       "20216095                                      0   \n",
       "20216096                                      0   \n",
       "20216097                                      0   \n",
       "20216098                                      0   \n",
       "20216099                                      0   \n",
       "\n",
       "          primary_Food sales and service  primary_Healthcare  ...  \\\n",
       "20216095                               0                   0  ...   \n",
       "20216096                               0                   0  ...   \n",
       "20216097                               0                   0  ...   \n",
       "20216098                               0                   0  ...   \n",
       "20216099                               0                   0  ...   \n",
       "\n",
       "          primary_Utility  primary_Warehouse/storage  timestamp  \\\n",
       "20216095                0                          0   04:00:00   \n",
       "20216096                0                          0   05:00:00   \n",
       "20216097                0                          0   06:00:00   \n",
       "20216098                0                          0   07:00:00   \n",
       "20216099                0                          0   08:00:00   \n",
       "\n",
       "          air_temperature  cloud_coverage  dew_temperature  precip_depth_1_hr  \\\n",
       "20216095             16.7             0.0             12.2                0.0   \n",
       "20216096             15.0             0.0             11.7                0.0   \n",
       "20216097             13.9             2.0             12.2                0.0   \n",
       "20216098             15.0             2.0             12.2                0.0   \n",
       "20216099             14.4             2.0             12.2                0.0   \n",
       "\n",
       "          sea_level_pressure  wind_direction  wind_speed  \n",
       "20216095              1021.9             0.0         0.0  \n",
       "20216096              1021.6             0.0         0.0  \n",
       "20216097              1021.1             0.0         0.0  \n",
       "20216098              1021.0             0.0         0.0  \n",
       "20216099              1020.4           360.0         2.1  \n",
       "\n",
       "[5 rows x 30 columns]"
      ]
     },
     "execution_count": 244,
     "metadata": {},
     "output_type": "execute_result"
    }
   ],
   "source": [
    "dtrain.tail()"
   ]
  },
  {
   "cell_type": "code",
   "execution_count": 245,
   "metadata": {},
   "outputs": [
    {
     "data": {
      "text/plain": [
       "(20216100, 30)"
      ]
     },
     "execution_count": 245,
     "metadata": {},
     "output_type": "execute_result"
    }
   ],
   "source": [
    "dtrain.shape"
   ]
  },
  {
   "cell_type": "code",
   "execution_count": 246,
   "metadata": {},
   "outputs": [
    {
     "data": {
      "text/plain": [
       "(20216100,)"
      ]
     },
     "execution_count": 246,
     "metadata": {},
     "output_type": "execute_result"
    }
   ],
   "source": [
    "target.shape"
   ]
  },
  {
   "cell_type": "code",
   "execution_count": 247,
   "metadata": {},
   "outputs": [
    {
     "data": {
      "text/plain": [
       "<matplotlib.axes._subplots.AxesSubplot at 0x6df7eda0>"
      ]
     },
     "execution_count": 247,
     "metadata": {},
     "output_type": "execute_result"
    },
    {
     "data": {
      "image/png": "[encoded data removed]",
      "text/plain": [
       "<Figure size 432x288 with 1 Axes>"
      ]
     },
     "metadata": {
      "needs_background": "light"
     },
     "output_type": "display_data"
    }
   ],
   "source": [
    "sns.distplot(target)"
   ]
  },
  {
   "cell_type": "code",
   "execution_count": 248,
   "metadata": {},
   "outputs": [],
   "source": [
    "logtarget = np.log1p(target)"
   ]
  },
  {
   "cell_type": "code",
   "execution_count": 249,
   "metadata": {},
   "outputs": [
    {
     "data": {
      "text/plain": [
       "<matplotlib.axes._subplots.AxesSubplot at 0x711879b0>"
      ]
     },
     "execution_count": 249,
     "metadata": {},
     "output_type": "execute_result"
    },
    {
     "data": {
      "image/png": "[encoded data removed]",
      "text/plain": [
       "<Figure size 432x288 with 1 Axes>"
      ]
     },
     "metadata": {
      "needs_background": "light"
     },
     "output_type": "display_data"
    }
   ],
   "source": [
    "sns.distplot(logtarget)"
   ]
  },
  {
   "cell_type": "code",
   "execution_count": 250,
   "metadata": {},
   "outputs": [],
   "source": [
    "dtrain.drop('timestamp', axis=1, inplace=True)"
   ]
  },
  {
   "cell_type": "code",
   "execution_count": 251,
   "metadata": {},
   "outputs": [],
   "source": [
    "dtrain.drop('building_id_left', axis=1, inplace=True)\n",
    "dtrain.drop('building_id_right', axis=1, inplace=True)"
   ]
  },
  {
   "cell_type": "markdown",
   "metadata": {},
   "source": [
    "# In Vain"
   ]
  },
  {
   "cell_type": "code",
   "execution_count": 163,
   "metadata": {},
   "outputs": [],
   "source": [
    "def reduced(x):\n",
    "    for i in x.columns:\n",
    "        if x[i].dtypes == 'float64':\n",
    "            x[i].astype('float16')\n",
    "    return x"
   ]
  },
  {
   "cell_type": "code",
   "execution_count": 164,
   "metadata": {},
   "outputs": [],
   "source": [
    "dtrainr = reduced(dtrain)"
   ]
  },
  {
   "cell_type": "code",
   "execution_count": 167,
   "metadata": {
    "scrolled": true
   },
   "outputs": [
    {
     "data": {
      "text/plain": [
       "meter                                       int8\n",
       "site_id                                    int64\n",
       "square_feet                              float64\n",
       "year_built                               float16\n",
       "primary_Education                          uint8\n",
       "primary_Entertainment/public assembly      uint8\n",
       "primary_Food sales and service             uint8\n",
       "primary_Healthcare                         uint8\n",
       "primary_Lodging/residential                uint8\n",
       "primary_Manufacturing/industrial           uint8\n",
       "primary_Office                             uint8\n",
       "primary_Other                              uint8\n",
       "primary_Parking                            uint8\n",
       "primary_Public services                    uint8\n",
       "primary_Religious worship                  uint8\n",
       "primary_Retail                             uint8\n",
       "primary_Services                           uint8\n",
       "primary_Technology/science                 uint8\n",
       "primary_Utility                            uint8\n",
       "primary_Warehouse/storage                  uint8\n",
       "air_temperature                          float64\n",
       "cloud_coverage                           float64\n",
       "dew_temperature                          float64\n",
       "precip_depth_1_hr                        float64\n",
       "sea_level_pressure                       float64\n",
       "wind_direction                           float64\n",
       "wind_speed                               float64\n",
       "dtype: object"
      ]
     },
     "execution_count": 167,
     "metadata": {},
     "output_type": "execute_result"
    }
   ],
   "source": [
    "dtrainr.dtypes"
   ]
  },
  {
   "cell_type": "code",
   "execution_count": 168,
   "metadata": {},
   "outputs": [
    {
     "data": {
      "text/plain": [
       "'site_id'"
      ]
     },
     "execution_count": 168,
     "metadata": {},
     "output_type": "execute_result"
    }
   ],
   "source": [
    "dtrain.columns[1]"
   ]
  },
  {
   "cell_type": "code",
   "execution_count": 169,
   "metadata": {},
   "outputs": [
    {
     "data": {
      "text/plain": [
       "dtype('float64')"
      ]
     },
     "execution_count": 169,
     "metadata": {},
     "output_type": "execute_result"
    }
   ],
   "source": [
    "dtrain['square_feet'].dtype"
   ]
  },
  {
   "cell_type": "code",
   "execution_count": 213,
   "metadata": {
    "scrolled": true
   },
   "outputs": [
    {
     "data": {
      "text/plain": [
       "meter                                       int8\n",
       "site_id                                    int64\n",
       "square_feet                              float64\n",
       "year_built                               float16\n",
       "primary_Education                          uint8\n",
       "primary_Entertainment/public assembly      uint8\n",
       "primary_Food sales and service             uint8\n",
       "primary_Healthcare                         uint8\n",
       "primary_Lodging/residential                uint8\n",
       "primary_Manufacturing/industrial           uint8\n",
       "primary_Office                             uint8\n",
       "primary_Other                              uint8\n",
       "primary_Parking                            uint8\n",
       "primary_Public services                    uint8\n",
       "primary_Religious worship                  uint8\n",
       "primary_Retail                             uint8\n",
       "primary_Services                           uint8\n",
       "primary_Technology/science                 uint8\n",
       "primary_Utility                            uint8\n",
       "primary_Warehouse/storage                  uint8\n",
       "air_temperature                          float64\n",
       "cloud_coverage                           float64\n",
       "dew_temperature                          float64\n",
       "precip_depth_1_hr                        float64\n",
       "sea_level_pressure                       float64\n",
       "wind_direction                           float64\n",
       "wind_speed                               float64\n",
       "dtype: object"
      ]
     },
     "execution_count": 213,
     "metadata": {},
     "output_type": "execute_result"
    }
   ],
   "source": [
    "dtrainr.dtypes"
   ]
  },
  {
   "cell_type": "code",
   "execution_count": 158,
   "metadata": {},
   "outputs": [
    {
     "data": {
      "text/html": [
       "<div>\n",
       "<style scoped>\n",
       "    .dataframe tbody tr th:only-of-type {\n",
       "        vertical-align: middle;\n",
       "    }\n",
       "\n",
       "    .dataframe tbody tr th {\n",
       "        vertical-align: top;\n",
       "    }\n",
       "\n",
       "    .dataframe thead th {\n",
       "        text-align: right;\n",
       "    }\n",
       "</style>\n",
       "<table border=\"1\" class=\"dataframe\">\n",
       "  <thead>\n",
       "    <tr style=\"text-align: right;\">\n",
       "      <th></th>\n",
       "      <th>meter</th>\n",
       "      <th>site_id</th>\n",
       "      <th>square_feet</th>\n",
       "      <th>year_built</th>\n",
       "      <th>primary_Education</th>\n",
       "      <th>primary_Entertainment/public assembly</th>\n",
       "      <th>primary_Food sales and service</th>\n",
       "      <th>primary_Healthcare</th>\n",
       "      <th>primary_Lodging/residential</th>\n",
       "      <th>primary_Manufacturing/industrial</th>\n",
       "      <th>...</th>\n",
       "      <th>primary_Technology/science</th>\n",
       "      <th>primary_Utility</th>\n",
       "      <th>primary_Warehouse/storage</th>\n",
       "      <th>air_temperature</th>\n",
       "      <th>cloud_coverage</th>\n",
       "      <th>dew_temperature</th>\n",
       "      <th>precip_depth_1_hr</th>\n",
       "      <th>sea_level_pressure</th>\n",
       "      <th>wind_direction</th>\n",
       "      <th>wind_speed</th>\n",
       "    </tr>\n",
       "  </thead>\n",
       "  <tbody>\n",
       "    <tr>\n",
       "      <th>count</th>\n",
       "      <td>2.021610e+07</td>\n",
       "      <td>20216100.0</td>\n",
       "      <td>2.021610e+07</td>\n",
       "      <td>20216100.0</td>\n",
       "      <td>20216100.0</td>\n",
       "      <td>20216100.0</td>\n",
       "      <td>20216100.0</td>\n",
       "      <td>20216100.0</td>\n",
       "      <td>20216100.0</td>\n",
       "      <td>20216100.0</td>\n",
       "      <td>...</td>\n",
       "      <td>20216100.0</td>\n",
       "      <td>20216100.0</td>\n",
       "      <td>20216100.0</td>\n",
       "      <td>2.021610e+07</td>\n",
       "      <td>2.021610e+07</td>\n",
       "      <td>2.021610e+07</td>\n",
       "      <td>2.021610e+07</td>\n",
       "      <td>2.021610e+07</td>\n",
       "      <td>2.021610e+07</td>\n",
       "      <td>2.021610e+07</td>\n",
       "    </tr>\n",
       "    <tr>\n",
       "      <th>mean</th>\n",
       "      <td>6.624412e-01</td>\n",
       "      <td>0.0</td>\n",
       "      <td>-7.644652e-01</td>\n",
       "      <td>NaN</td>\n",
       "      <td>1.0</td>\n",
       "      <td>0.0</td>\n",
       "      <td>0.0</td>\n",
       "      <td>0.0</td>\n",
       "      <td>0.0</td>\n",
       "      <td>0.0</td>\n",
       "      <td>...</td>\n",
       "      <td>0.0</td>\n",
       "      <td>0.0</td>\n",
       "      <td>0.0</td>\n",
       "      <td>1.565776e+01</td>\n",
       "      <td>4.362659e+00</td>\n",
       "      <td>9.206373e+00</td>\n",
       "      <td>1.005844e+00</td>\n",
       "      <td>1.018884e+03</td>\n",
       "      <td>1.939307e+02</td>\n",
       "      <td>3.831037e+00</td>\n",
       "    </tr>\n",
       "    <tr>\n",
       "      <th>std</th>\n",
       "      <td>9.309921e-01</td>\n",
       "      <td>0.0</td>\n",
       "      <td>2.157180e-10</td>\n",
       "      <td>NaN</td>\n",
       "      <td>0.0</td>\n",
       "      <td>0.0</td>\n",
       "      <td>0.0</td>\n",
       "      <td>0.0</td>\n",
       "      <td>0.0</td>\n",
       "      <td>0.0</td>\n",
       "      <td>...</td>\n",
       "      <td>0.0</td>\n",
       "      <td>0.0</td>\n",
       "      <td>0.0</td>\n",
       "      <td>5.366747e+00</td>\n",
       "      <td>2.852192e+00</td>\n",
       "      <td>6.708651e+00</td>\n",
       "      <td>6.967438e+00</td>\n",
       "      <td>5.094109e+00</td>\n",
       "      <td>1.220174e+02</td>\n",
       "      <td>2.286805e+00</td>\n",
       "    </tr>\n",
       "    <tr>\n",
       "      <th>min</th>\n",
       "      <td>0.000000e+00</td>\n",
       "      <td>0.0</td>\n",
       "      <td>-7.644652e-01</td>\n",
       "      <td>2008.0</td>\n",
       "      <td>1.0</td>\n",
       "      <td>0.0</td>\n",
       "      <td>0.0</td>\n",
       "      <td>0.0</td>\n",
       "      <td>0.0</td>\n",
       "      <td>0.0</td>\n",
       "      <td>...</td>\n",
       "      <td>0.0</td>\n",
       "      <td>0.0</td>\n",
       "      <td>0.0</td>\n",
       "      <td>1.700000e+00</td>\n",
       "      <td>0.000000e+00</td>\n",
       "      <td>-9.400000e+00</td>\n",
       "      <td>-1.000000e+00</td>\n",
       "      <td>9.990000e+02</td>\n",
       "      <td>0.000000e+00</td>\n",
       "      <td>0.000000e+00</td>\n",
       "    </tr>\n",
       "    <tr>\n",
       "      <th>25%</th>\n",
       "      <td>0.000000e+00</td>\n",
       "      <td>0.0</td>\n",
       "      <td>-7.644652e-01</td>\n",
       "      <td>2008.0</td>\n",
       "      <td>1.0</td>\n",
       "      <td>0.0</td>\n",
       "      <td>0.0</td>\n",
       "      <td>0.0</td>\n",
       "      <td>0.0</td>\n",
       "      <td>0.0</td>\n",
       "      <td>...</td>\n",
       "      <td>0.0</td>\n",
       "      <td>0.0</td>\n",
       "      <td>0.0</td>\n",
       "      <td>1.170000e+01</td>\n",
       "      <td>2.000000e+00</td>\n",
       "      <td>3.900000e+00</td>\n",
       "      <td>0.000000e+00</td>\n",
       "      <td>1.015000e+03</td>\n",
       "      <td>9.000000e+01</td>\n",
       "      <td>2.600000e+00</td>\n",
       "    </tr>\n",
       "    <tr>\n",
       "      <th>50%</th>\n",
       "      <td>0.000000e+00</td>\n",
       "      <td>0.0</td>\n",
       "      <td>-7.644652e-01</td>\n",
       "      <td>2008.0</td>\n",
       "      <td>1.0</td>\n",
       "      <td>0.0</td>\n",
       "      <td>0.0</td>\n",
       "      <td>0.0</td>\n",
       "      <td>0.0</td>\n",
       "      <td>0.0</td>\n",
       "      <td>...</td>\n",
       "      <td>0.0</td>\n",
       "      <td>0.0</td>\n",
       "      <td>0.0</td>\n",
       "      <td>1.560000e+01</td>\n",
       "      <td>4.000000e+00</td>\n",
       "      <td>1.000000e+01</td>\n",
       "      <td>0.000000e+00</td>\n",
       "      <td>1.019100e+03</td>\n",
       "      <td>2.100000e+02</td>\n",
       "      <td>3.600000e+00</td>\n",
       "    </tr>\n",
       "    <tr>\n",
       "      <th>75%</th>\n",
       "      <td>1.000000e+00</td>\n",
       "      <td>0.0</td>\n",
       "      <td>-7.644652e-01</td>\n",
       "      <td>2008.0</td>\n",
       "      <td>1.0</td>\n",
       "      <td>0.0</td>\n",
       "      <td>0.0</td>\n",
       "      <td>0.0</td>\n",
       "      <td>0.0</td>\n",
       "      <td>0.0</td>\n",
       "      <td>...</td>\n",
       "      <td>0.0</td>\n",
       "      <td>0.0</td>\n",
       "      <td>0.0</td>\n",
       "      <td>1.940000e+01</td>\n",
       "      <td>6.000000e+00</td>\n",
       "      <td>1.500000e+01</td>\n",
       "      <td>0.000000e+00</td>\n",
       "      <td>1.022900e+03</td>\n",
       "      <td>3.000000e+02</td>\n",
       "      <td>5.100000e+00</td>\n",
       "    </tr>\n",
       "    <tr>\n",
       "      <th>max</th>\n",
       "      <td>3.000000e+00</td>\n",
       "      <td>0.0</td>\n",
       "      <td>-7.644652e-01</td>\n",
       "      <td>2008.0</td>\n",
       "      <td>1.0</td>\n",
       "      <td>0.0</td>\n",
       "      <td>0.0</td>\n",
       "      <td>0.0</td>\n",
       "      <td>0.0</td>\n",
       "      <td>0.0</td>\n",
       "      <td>...</td>\n",
       "      <td>0.0</td>\n",
       "      <td>0.0</td>\n",
       "      <td>0.0</td>\n",
       "      <td>2.830000e+01</td>\n",
       "      <td>9.000000e+00</td>\n",
       "      <td>2.170000e+01</td>\n",
       "      <td>1.650000e+02</td>\n",
       "      <td>1.030200e+03</td>\n",
       "      <td>3.600000e+02</td>\n",
       "      <td>1.290000e+01</td>\n",
       "    </tr>\n",
       "  </tbody>\n",
       "</table>\n",
       "<p>8 rows × 27 columns</p>\n",
       "</div>"
      ],
      "text/plain": [
       "              meter     site_id   square_feet  year_built  primary_Education  \\\n",
       "count  2.021610e+07  20216100.0  2.021610e+07  20216100.0         20216100.0   \n",
       "mean   6.624412e-01         0.0 -7.644652e-01         NaN                1.0   \n",
       "std    9.309921e-01         0.0  2.157180e-10         NaN                0.0   \n",
       "min    0.000000e+00         0.0 -7.644652e-01      2008.0                1.0   \n",
       "25%    0.000000e+00         0.0 -7.644652e-01      2008.0                1.0   \n",
       "50%    0.000000e+00         0.0 -7.644652e-01      2008.0                1.0   \n",
       "75%    1.000000e+00         0.0 -7.644652e-01      2008.0                1.0   \n",
       "max    3.000000e+00         0.0 -7.644652e-01      2008.0                1.0   \n",
       "\n",
       "       primary_Entertainment/public assembly  primary_Food sales and service  \\\n",
       "count                             20216100.0                      20216100.0   \n",
       "mean                                     0.0                             0.0   \n",
       "std                                      0.0                             0.0   \n",
       "min                                      0.0                             0.0   \n",
       "25%                                      0.0                             0.0   \n",
       "50%                                      0.0                             0.0   \n",
       "75%                                      0.0                             0.0   \n",
       "max                                      0.0                             0.0   \n",
       "\n",
       "       primary_Healthcare  primary_Lodging/residential  \\\n",
       "count          20216100.0                   20216100.0   \n",
       "mean                  0.0                          0.0   \n",
       "std                   0.0                          0.0   \n",
       "min                   0.0                          0.0   \n",
       "25%                   0.0                          0.0   \n",
       "50%                   0.0                          0.0   \n",
       "75%                   0.0                          0.0   \n",
       "max                   0.0                          0.0   \n",
       "\n",
       "       primary_Manufacturing/industrial  ...  primary_Technology/science  \\\n",
       "count                        20216100.0  ...                  20216100.0   \n",
       "mean                                0.0  ...                         0.0   \n",
       "std                                 0.0  ...                         0.0   \n",
       "min                                 0.0  ...                         0.0   \n",
       "25%                                 0.0  ...                         0.0   \n",
       "50%                                 0.0  ...                         0.0   \n",
       "75%                                 0.0  ...                         0.0   \n",
       "max                                 0.0  ...                         0.0   \n",
       "\n",
       "       primary_Utility  primary_Warehouse/storage  air_temperature  \\\n",
       "count       20216100.0                 20216100.0     2.021610e+07   \n",
       "mean               0.0                        0.0     1.565776e+01   \n",
       "std                0.0                        0.0     5.366747e+00   \n",
       "min                0.0                        0.0     1.700000e+00   \n",
       "25%                0.0                        0.0     1.170000e+01   \n",
       "50%                0.0                        0.0     1.560000e+01   \n",
       "75%                0.0                        0.0     1.940000e+01   \n",
       "max                0.0                        0.0     2.830000e+01   \n",
       "\n",
       "       cloud_coverage  dew_temperature  precip_depth_1_hr  sea_level_pressure  \\\n",
       "count    2.021610e+07     2.021610e+07       2.021610e+07        2.021610e+07   \n",
       "mean     4.362659e+00     9.206373e+00       1.005844e+00        1.018884e+03   \n",
       "std      2.852192e+00     6.708651e+00       6.967438e+00        5.094109e+00   \n",
       "min      0.000000e+00    -9.400000e+00      -1.000000e+00        9.990000e+02   \n",
       "25%      2.000000e+00     3.900000e+00       0.000000e+00        1.015000e+03   \n",
       "50%      4.000000e+00     1.000000e+01       0.000000e+00        1.019100e+03   \n",
       "75%      6.000000e+00     1.500000e+01       0.000000e+00        1.022900e+03   \n",
       "max      9.000000e+00     2.170000e+01       1.650000e+02        1.030200e+03   \n",
       "\n",
       "       wind_direction    wind_speed  \n",
       "count    2.021610e+07  2.021610e+07  \n",
       "mean     1.939307e+02  3.831037e+00  \n",
       "std      1.220174e+02  2.286805e+00  \n",
       "min      0.000000e+00  0.000000e+00  \n",
       "25%      9.000000e+01  2.600000e+00  \n",
       "50%      2.100000e+02  3.600000e+00  \n",
       "75%      3.000000e+02  5.100000e+00  \n",
       "max      3.600000e+02  1.290000e+01  \n",
       "\n",
       "[8 rows x 27 columns]"
      ]
     },
     "execution_count": 158,
     "metadata": {},
     "output_type": "execute_result"
    }
   ],
   "source": [
    "dtrain.describe()"
   ]
  },
  {
   "cell_type": "markdown",
   "metadata": {},
   "source": [
    "# Modeling"
   ]
  },
  {
   "cell_type": "code",
   "execution_count": 88,
   "metadata": {},
   "outputs": [],
   "source": [
    "from sklearn.model_selection import train_test_split\n",
    "from sklearn.ensemble import RandomForestRegressor\n",
    "from sklearn.metrics import accuracy_score, confusion_matrix, mean_squared_error as mse"
   ]
  },
  {
   "cell_type": "code",
   "execution_count": 89,
   "metadata": {},
   "outputs": [],
   "source": [
    "xtrain,xtest,ytrain,ytest = train_test_split(dtrain,logtarget, test_size=0.3, random_state=123)"
   ]
  },
  {
   "cell_type": "code",
   "execution_count": 92,
   "metadata": {
    "scrolled": true
   },
   "outputs": [
    {
     "data": {
      "text/plain": [
       "meter                                    0\n",
       "site_id                                  0\n",
       "square_feet                              0\n",
       "year_built                               0\n",
       "primary_Education                        0\n",
       "primary_Entertainment/public assembly    0\n",
       "primary_Food sales and service           0\n",
       "primary_Healthcare                       0\n",
       "primary_Lodging/residential              0\n",
       "primary_Manufacturing/industrial         0\n",
       "primary_Office                           0\n",
       "primary_Other                            0\n",
       "primary_Parking                          0\n",
       "primary_Public services                  0\n",
       "primary_Religious worship                0\n",
       "primary_Retail                           0\n",
       "primary_Services                         0\n",
       "primary_Technology/science               0\n",
       "primary_Utility                          0\n",
       "primary_Warehouse/storage                0\n",
       "air_temperature                          0\n",
       "cloud_coverage                           0\n",
       "dew_temperature                          0\n",
       "precip_depth_1_hr                        0\n",
       "sea_level_pressure                       0\n",
       "wind_direction                           0\n",
       "wind_speed                               0\n",
       "dtype: int64"
      ]
     },
     "execution_count": 92,
     "metadata": {},
     "output_type": "execute_result"
    }
   ],
   "source": [
    "xtrain.isnull().sum()"
   ]
  },
  {
   "cell_type": "code",
   "execution_count": 93,
   "metadata": {
    "scrolled": true
   },
   "outputs": [
    {
     "data": {
      "text/plain": [
       "meter                                       int8\n",
       "site_id                                    int64\n",
       "square_feet                              float64\n",
       "year_built                               float16\n",
       "primary_Education                          uint8\n",
       "primary_Entertainment/public assembly      uint8\n",
       "primary_Food sales and service             uint8\n",
       "primary_Healthcare                         uint8\n",
       "primary_Lodging/residential                uint8\n",
       "primary_Manufacturing/industrial           uint8\n",
       "primary_Office                             uint8\n",
       "primary_Other                              uint8\n",
       "primary_Parking                            uint8\n",
       "primary_Public services                    uint8\n",
       "primary_Religious worship                  uint8\n",
       "primary_Retail                             uint8\n",
       "primary_Services                           uint8\n",
       "primary_Technology/science                 uint8\n",
       "primary_Utility                            uint8\n",
       "primary_Warehouse/storage                  uint8\n",
       "air_temperature                          float64\n",
       "cloud_coverage                           float64\n",
       "dew_temperature                          float64\n",
       "precip_depth_1_hr                        float64\n",
       "sea_level_pressure                       float64\n",
       "wind_direction                           float64\n",
       "wind_speed                               float64\n",
       "dtype: object"
      ]
     },
     "execution_count": 93,
     "metadata": {},
     "output_type": "execute_result"
    }
   ],
   "source": [
    "xtrain.dtypes"
   ]
  },
  {
   "cell_type": "markdown",
   "metadata": {},
   "source": [
    "# Deep Learning"
   ]
  },
  {
   "cell_type": "code",
   "execution_count": 252,
   "metadata": {},
   "outputs": [],
   "source": [
    "from sklearn.preprocessing import RobustScaler"
   ]
  },
  {
   "cell_type": "code",
   "execution_count": 90,
   "metadata": {},
   "outputs": [
    {
     "name": "stderr",
     "output_type": "stream",
     "text": [
      "Using TensorFlow backend.\n"
     ]
    }
   ],
   "source": [
    "from keras.models import Sequential\n",
    "from keras.layers import Input, Dense, LSTM\n",
    "from keras import metrics"
   ]
  },
  {
   "cell_type": "code",
   "execution_count": 106,
   "metadata": {},
   "outputs": [],
   "source": [
    "from sklearn import preprocessing\n",
    "from sklearn.metrics import r2_score\n",
    "from keras.callbacks import EarlyStopping"
   ]
  },
  {
   "cell_type": "code",
   "execution_count": 257,
   "metadata": {},
   "outputs": [],
   "source": [
    "dtrain_processed = preprocessing.scale(dtrain)"
   ]
  },
  {
   "cell_type": "code",
   "execution_count": 258,
   "metadata": {},
   "outputs": [
    {
     "data": {
      "text/plain": [
       "array([-0.71154331,  0.        ,  0.        ,  0.        ,  0.        ,\n",
       "        0.        ,  0.        ,  0.        ,  0.        ,  0.        ,\n",
       "        0.        ,  0.        ,  0.        ,  0.        ,  0.        ,\n",
       "        0.        ,  0.        ,  0.        ,  0.        ,  0.        ,\n",
       "        0.69730161, -0.82836596,  1.5194749 , -0.14436349,  0.21899802,\n",
       "       -1.58936922, -1.67527929])"
      ]
     },
     "execution_count": 258,
     "metadata": {},
     "output_type": "execute_result"
    }
   ],
   "source": [
    "dtrain_processed[5]"
   ]
  },
  {
   "cell_type": "code",
   "execution_count": 259,
   "metadata": {},
   "outputs": [],
   "source": [
    "dtrain_reduced =  preprocessing.scale(dtrain[:200000])"
   ]
  },
  {
   "cell_type": "code",
   "execution_count": 260,
   "metadata": {},
   "outputs": [
    {
     "data": {
      "text/plain": [
       "array([[-0.7030845 ,  0.        ,  0.        , ...,  0.14899965,\n",
       "        -1.60954385, -1.68151656],\n",
       "       [-0.7030845 ,  0.        ,  0.        , ...,  0.24694255,\n",
       "        -1.03342284, -1.02542405],\n",
       "       [-0.7030845 ,  0.        ,  0.        , ...,  0.24694255,\n",
       "        -1.60954385, -1.68151656],\n",
       "       ...,\n",
       "       [-0.7030845 ,  0.        ,  0.        , ...,  0.40365119,\n",
       "         1.35336424,  0.11180298],\n",
       "       [-0.7030845 ,  0.        ,  0.        , ...,  0.44282835,\n",
       "         1.35336424,  0.81163499],\n",
       "       [-0.7030845 ,  0.        ,  0.        , ...,  0.46241693,\n",
       "         1.27106123,  0.11180298]])"
      ]
     },
     "execution_count": 260,
     "metadata": {},
     "output_type": "execute_result"
    }
   ],
   "source": [
    "dtrain_reduced"
   ]
  },
  {
   "cell_type": "code",
   "execution_count": 262,
   "metadata": {},
   "outputs": [],
   "source": [
    "target_reduced = logtarget[:200000]"
   ]
  },
  {
   "cell_type": "code",
   "execution_count": 263,
   "metadata": {
    "scrolled": true
   },
   "outputs": [
    {
     "data": {
      "text/plain": [
       "0.000000    25783\n",
       "3.258097      405\n",
       "3.044522      345\n",
       "3.218876      294\n",
       "3.433987      255\n",
       "2.750701      245\n",
       "2.944439      243\n",
       "3.091042      239\n",
       "1.609438      239\n",
       "2.397895      236\n",
       "3.931826      236\n",
       "2.922317      235\n",
       "3.465736      204\n",
       "3.496508      204\n",
       "0.788457      203\n",
       "2.772589      200\n",
       "1.098612      186\n",
       "2.281576      186\n",
       "1.945910      184\n",
       "3.068750      179\n",
       "4.023564      175\n",
       "1.791759      175\n",
       "0.980842      171\n",
       "2.079442      170\n",
       "3.401197      164\n",
       "2.833213      162\n",
       "3.295837      162\n",
       "4.615121      161\n",
       "3.526361      160\n",
       "1.466329      159\n",
       "            ...  \n",
       "2.902278        1\n",
       "7.197316        1\n",
       "5.769445        1\n",
       "5.648622        1\n",
       "4.306714        1\n",
       "1.171770        1\n",
       "4.245849        1\n",
       "4.949759        1\n",
       "4.846091        1\n",
       "7.655140        1\n",
       "7.121898        1\n",
       "1.299674        1\n",
       "5.359290        1\n",
       "6.928264        1\n",
       "7.080060        1\n",
       "6.838885        1\n",
       "4.810394        1\n",
       "4.655302        1\n",
       "9.436057        1\n",
       "5.536014        1\n",
       "3.213823        1\n",
       "2.655142        1\n",
       "3.429104        1\n",
       "6.097018        1\n",
       "6.539566        1\n",
       "5.559835        1\n",
       "3.760874        1\n",
       "5.421495        1\n",
       "5.867561        1\n",
       "5.621100        1\n",
       "Name: meter_reading, Length: 80918, dtype: int64"
      ]
     },
     "execution_count": 263,
     "metadata": {},
     "output_type": "execute_result"
    }
   ],
   "source": [
    "target_reduced.value_counts()"
   ]
  },
  {
   "cell_type": "code",
   "execution_count": 264,
   "metadata": {},
   "outputs": [],
   "source": [
    "xtrain,xtest,ytrain,ytest = train_test_split(dtrain_reduced,target_reduced, test_size=0.3, random_state=123)"
   ]
  },
  {
   "cell_type": "code",
   "execution_count": 162,
   "metadata": {},
   "outputs": [],
   "source": [
    "x_train = np.array(xtrain)\n",
    "y = np.array(ytrain)"
   ]
  },
  {
   "cell_type": "code",
   "execution_count": 163,
   "metadata": {},
   "outputs": [],
   "source": [
    "x_test = np.array(xtest)\n",
    "y_test = np.array(ytest)"
   ]
  },
  {
   "cell_type": "code",
   "execution_count": 164,
   "metadata": {},
   "outputs": [
    {
     "data": {
      "text/plain": [
       "(140000, 27)"
      ]
     },
     "execution_count": 164,
     "metadata": {},
     "output_type": "execute_result"
    }
   ],
   "source": [
    "x_train.shape"
   ]
  },
  {
   "cell_type": "code",
   "execution_count": 165,
   "metadata": {},
   "outputs": [
    {
     "data": {
      "text/plain": [
       "(140000,)"
      ]
     },
     "execution_count": 165,
     "metadata": {},
     "output_type": "execute_result"
    }
   ],
   "source": [
    "y.shape"
   ]
  },
  {
   "cell_type": "code",
   "execution_count": 265,
   "metadata": {},
   "outputs": [
    {
     "data": {
      "text/plain": [
       "27"
      ]
     },
     "execution_count": 265,
     "metadata": {},
     "output_type": "execute_result"
    }
   ],
   "source": [
    "n_cols=xtrain.shape[1]\n",
    "n_cols"
   ]
  },
  {
   "cell_type": "code",
   "execution_count": 323,
   "metadata": {},
   "outputs": [],
   "source": [
    "model = Sequential()"
   ]
  },
  {
   "cell_type": "code",
   "execution_count": 324,
   "metadata": {},
   "outputs": [],
   "source": [
    "model.add(Dense(28, input_shape=(n_cols,)))\n",
    "model.add(Dense(10))\n",
    "model.add(Dense(1))"
   ]
  },
  {
   "cell_type": "code",
   "execution_count": 325,
   "metadata": {},
   "outputs": [],
   "source": [
    "model.compile(loss='mean_squared_error', optimizer='adam',metrics = [metrics.mae])"
   ]
  },
  {
   "cell_type": "code",
   "execution_count": 326,
   "metadata": {},
   "outputs": [
    {
     "name": "stdout",
     "output_type": "stream",
     "text": [
      "Model: \"sequential_9\"\n",
      "_________________________________________________________________\n",
      "Layer (type)                 Output Shape              Param #   \n",
      "=================================================================\n",
      "dense_54 (Dense)             (None, 28)                784       \n",
      "_________________________________________________________________\n",
      "dense_55 (Dense)             (None, 10)                290       \n",
      "_________________________________________________________________\n",
      "dense_56 (Dense)             (None, 1)                 11        \n",
      "=================================================================\n",
      "Total params: 1,085\n",
      "Trainable params: 1,085\n",
      "Non-trainable params: 0\n",
      "_________________________________________________________________\n"
     ]
    }
   ],
   "source": [
    "model.summary()"
   ]
  },
  {
   "cell_type": "code",
   "execution_count": 327,
   "metadata": {},
   "outputs": [],
   "source": [
    "early_stop = EarlyStopping(patience=5)"
   ]
  },
  {
   "cell_type": "code",
   "execution_count": 335,
   "metadata": {
    "scrolled": true
   },
   "outputs": [
    {
     "name": "stdout",
     "output_type": "stream",
     "text": [
      "Train on 112000 samples, validate on 28000 samples\n",
      "Epoch 1/38\n",
      "112000/112000 [==============================] - 4s 34us/step - loss: 4.8253 - mean_absolute_error: 1.7627 - val_loss: 4.7843 - val_mean_absolute_error: 1.7285\n",
      "Epoch 2/38\n",
      "112000/112000 [==============================] - 4s 33us/step - loss: 4.8277 - mean_absolute_error: 1.7632 - val_loss: 4.7513 - val_mean_absolute_error: 1.7362\n",
      "Epoch 3/38\n",
      "112000/112000 [==============================] - 4s 33us/step - loss: 4.8267 - mean_absolute_error: 1.7630 - val_loss: 4.7867 - val_mean_absolute_error: 1.7770\n",
      "Epoch 4/38\n",
      "112000/112000 [==============================] - 4s 33us/step - loss: 4.8274 - mean_absolute_error: 1.7631 - val_loss: 4.7628 - val_mean_absolute_error: 1.7317\n",
      "Epoch 5/38\n",
      "112000/112000 [==============================] - 4s 33us/step - loss: 4.8266 - mean_absolute_error: 1.7631 - val_loss: 4.7456 - val_mean_absolute_error: 1.7488\n",
      "Epoch 6/38\n",
      "112000/112000 [==============================] - 4s 33us/step - loss: 4.8268 - mean_absolute_error: 1.7629 - val_loss: 4.7649 - val_mean_absolute_error: 1.7368\n",
      "Epoch 7/38\n",
      "112000/112000 [==============================] - 4s 34us/step - loss: 4.8253 - mean_absolute_error: 1.7628 - val_loss: 4.7909 - val_mean_absolute_error: 1.7787\n",
      "Epoch 8/38\n",
      "112000/112000 [==============================] - 4s 33us/step - loss: 4.8276 - mean_absolute_error: 1.7634 - val_loss: 4.7561 - val_mean_absolute_error: 1.7361\n",
      "Epoch 9/38\n",
      "112000/112000 [==============================] - 4s 33us/step - loss: 4.8261 - mean_absolute_error: 1.7631 - val_loss: 4.7520 - val_mean_absolute_error: 1.7567\n",
      "Epoch 10/38\n",
      "112000/112000 [==============================] - 4s 33us/step - loss: 4.8274 - mean_absolute_error: 1.7633 - val_loss: 4.7518 - val_mean_absolute_error: 1.7470\n",
      "Epoch 11/38\n",
      "112000/112000 [==============================] - 4s 33us/step - loss: 4.8266 - mean_absolute_error: 1.7634 - val_loss: 4.7680 - val_mean_absolute_error: 1.7324\n",
      "Epoch 12/38\n",
      "112000/112000 [==============================] - 4s 33us/step - loss: 4.8268 - mean_absolute_error: 1.7631 - val_loss: 4.7623 - val_mean_absolute_error: 1.7358\n",
      "Epoch 13/38\n",
      "112000/112000 [==============================] - 4s 33us/step - loss: 4.8252 - mean_absolute_error: 1.7625 - val_loss: 4.7458 - val_mean_absolute_error: 1.7495\n",
      "Epoch 14/38\n",
      "112000/112000 [==============================] - 4s 33us/step - loss: 4.8255 - mean_absolute_error: 1.7627 - val_loss: 4.7695 - val_mean_absolute_error: 1.7331\n",
      "Epoch 15/38\n",
      "112000/112000 [==============================] - 4s 33us/step - loss: 4.8286 - mean_absolute_error: 1.7637 - val_loss: 4.8052 - val_mean_absolute_error: 1.7262\n",
      "Epoch 16/38\n",
      "112000/112000 [==============================] - 4s 33us/step - loss: 4.8282 - mean_absolute_error: 1.7636 - val_loss: 4.7492 - val_mean_absolute_error: 1.7374\n",
      "Epoch 17/38\n",
      "112000/112000 [==============================] - 4s 33us/step - loss: 4.8282 - mean_absolute_error: 1.7634 - val_loss: 4.7457 - val_mean_absolute_error: 1.7424\n",
      "Epoch 18/38\n",
      "112000/112000 [==============================] - 4s 33us/step - loss: 4.8263 - mean_absolute_error: 1.7632 - val_loss: 4.7974 - val_mean_absolute_error: 1.7283\n",
      "Epoch 19/38\n",
      "112000/112000 [==============================] - 4s 33us/step - loss: 4.8281 - mean_absolute_error: 1.7630 - val_loss: 4.7662 - val_mean_absolute_error: 1.7611\n",
      "Epoch 20/38\n",
      "112000/112000 [==============================] - 4s 33us/step - loss: 4.8268 - mean_absolute_error: 1.7634 - val_loss: 4.7462 - val_mean_absolute_error: 1.7448\n",
      "Epoch 21/38\n",
      "112000/112000 [==============================] - 4s 33us/step - loss: 4.8245 - mean_absolute_error: 1.7627 - val_loss: 4.7478 - val_mean_absolute_error: 1.7433\n",
      "Epoch 22/38\n",
      "112000/112000 [==============================] - 4s 33us/step - loss: 4.8279 - mean_absolute_error: 1.7632 - val_loss: 4.7501 - val_mean_absolute_error: 1.7390\n",
      "Epoch 23/38\n",
      "112000/112000 [==============================] - 4s 33us/step - loss: 4.8245 - mean_absolute_error: 1.7628 - val_loss: 4.7536 - val_mean_absolute_error: 1.7566\n",
      "Epoch 24/38\n",
      "112000/112000 [==============================] - 4s 33us/step - loss: 4.8268 - mean_absolute_error: 1.7635 - val_loss: 4.7490 - val_mean_absolute_error: 1.7411\n",
      "Epoch 25/38\n",
      "112000/112000 [==============================] - 4s 33us/step - loss: 4.8257 - mean_absolute_error: 1.7631 - val_loss: 4.7462 - val_mean_absolute_error: 1.7404\n",
      "Epoch 26/38\n",
      "112000/112000 [==============================] - 4s 33us/step - loss: 4.8268 - mean_absolute_error: 1.7632 - val_loss: 4.7587 - val_mean_absolute_error: 1.7338\n",
      "Epoch 27/38\n",
      "112000/112000 [==============================] - 4s 33us/step - loss: 4.8253 - mean_absolute_error: 1.7630 - val_loss: 4.7568 - val_mean_absolute_error: 1.7500\n",
      "Epoch 28/38\n",
      "112000/112000 [==============================] - 4s 33us/step - loss: 4.8263 - mean_absolute_error: 1.7628 - val_loss: 4.7479 - val_mean_absolute_error: 1.7515\n",
      "Epoch 29/38\n",
      "112000/112000 [==============================] - 4s 33us/step - loss: 4.8254 - mean_absolute_error: 1.7631 - val_loss: 4.7478 - val_mean_absolute_error: 1.7402\n",
      "Epoch 30/38\n",
      "112000/112000 [==============================] - 4s 33us/step - loss: 4.8272 - mean_absolute_error: 1.7633 - val_loss: 4.7472 - val_mean_absolute_error: 1.7489\n",
      "Epoch 31/38\n",
      "112000/112000 [==============================] - 4s 33us/step - loss: 4.8239 - mean_absolute_error: 1.7626 - val_loss: 4.7509 - val_mean_absolute_error: 1.7543\n",
      "Epoch 32/38\n",
      "112000/112000 [==============================] - 4s 33us/step - loss: 4.8258 - mean_absolute_error: 1.7628 - val_loss: 4.7476 - val_mean_absolute_error: 1.7499\n",
      "Epoch 33/38\n",
      "112000/112000 [==============================] - 4s 33us/step - loss: 4.8264 - mean_absolute_error: 1.7631 - val_loss: 4.7667 - val_mean_absolute_error: 1.7637\n",
      "Epoch 34/38\n",
      "112000/112000 [==============================] - 4s 33us/step - loss: 4.8263 - mean_absolute_error: 1.7629 - val_loss: 4.7663 - val_mean_absolute_error: 1.7399\n",
      "Epoch 35/38\n",
      "112000/112000 [==============================] - 4s 33us/step - loss: 4.8253 - mean_absolute_error: 1.7629 - val_loss: 4.7488 - val_mean_absolute_error: 1.7413\n",
      "Epoch 36/38\n",
      "112000/112000 [==============================] - 4s 33us/step - loss: 4.8248 - mean_absolute_error: 1.7628 - val_loss: 4.7470 - val_mean_absolute_error: 1.7428\n",
      "Epoch 37/38\n",
      "112000/112000 [==============================] - 4s 33us/step - loss: 4.8267 - mean_absolute_error: 1.7634 - val_loss: 4.7480 - val_mean_absolute_error: 1.7389\n",
      "Epoch 38/38\n",
      "112000/112000 [==============================] - 4s 33us/step - loss: 4.8249 - mean_absolute_error: 1.7627 - val_loss: 4.7474 - val_mean_absolute_error: 1.7392\n"
     ]
    }
   ],
   "source": [
    "history = model.fit(x_train,y, epochs=38, validation_split=0.2)"
   ]
  },
  {
   "cell_type": "code",
   "execution_count": 336,
   "metadata": {},
   "outputs": [],
   "source": [
    "predict = model.predict(x_test)"
   ]
  },
  {
   "cell_type": "code",
   "execution_count": 337,
   "metadata": {},
   "outputs": [
    {
     "data": {
      "text/plain": [
       "array([[4.0951095],\n",
       "       [5.010177 ],\n",
       "       [3.5505087],\n",
       "       ...,\n",
       "       [4.626493 ],\n",
       "       [4.08888  ],\n",
       "       [3.890367 ]], dtype=float32)"
      ]
     },
     "execution_count": 337,
     "metadata": {},
     "output_type": "execute_result"
    }
   ],
   "source": [
    "predict"
   ]
  },
  {
   "cell_type": "code",
   "execution_count": 338,
   "metadata": {},
   "outputs": [
    {
     "data": {
      "text/plain": [
       "array([[ 60.04591 ],\n",
       "       [149.93129 ],\n",
       "       [ 34.83103 ],\n",
       "       ...,\n",
       "       [102.155174],\n",
       "       [ 59.673023],\n",
       "       [ 48.92884 ]], dtype=float32)"
      ]
     },
     "execution_count": 338,
     "metadata": {},
     "output_type": "execute_result"
    }
   ],
   "source": [
    "np.exp(predict)"
   ]
  },
  {
   "cell_type": "code",
   "execution_count": 339,
   "metadata": {},
   "outputs": [
    {
     "data": {
      "text/plain": [
       "array([1.66820e+00, 1.00000e+00, 1.69640e+02, ..., 4.67642e+03,\n",
       "       1.00000e+00, 1.34419e+03])"
      ]
     },
     "execution_count": 339,
     "metadata": {},
     "output_type": "execute_result"
    }
   ],
   "source": [
    "np.exp(y_test)"
   ]
  },
  {
   "cell_type": "code",
   "execution_count": 340,
   "metadata": {},
   "outputs": [],
   "source": [
    "from sklearn.metrics import mean_squared_error as mse"
   ]
  },
  {
   "cell_type": "code",
   "execution_count": 341,
   "metadata": {},
   "outputs": [
    {
     "data": {
      "text/plain": [
       "2.201468085213859"
      ]
     },
     "execution_count": 341,
     "metadata": {},
     "output_type": "execute_result"
    }
   ],
   "source": [
    "np.sqrt(mse(y_test,predict))"
   ]
  },
  {
   "cell_type": "code",
   "execution_count": 205,
   "metadata": {},
   "outputs": [
    {
     "data": {
      "image/png": "[encoded data removed]",
      "text/plain": [
       "<Figure size 432x288 with 1 Axes>"
      ]
     },
     "metadata": {
      "needs_background": "light"
     },
     "output_type": "display_data"
    }
   ],
   "source": [
    "plt.scatter(range(predict.size),predict,c='r')\n",
    "plt.scatter(range(y_test.size),y_test, c='g')\n",
    "plt.show()"
   ]
  },
  {
   "cell_type": "code",
   "execution_count": 342,
   "metadata": {},
   "outputs": [
    {
     "data": {
      "image/png": "[encoded data removed]",
      "text/plain": [
       "<Figure size 1080x720 with 1 Axes>"
      ]
     },
     "metadata": {
      "needs_background": "light"
     },
     "output_type": "display_data"
    }
   ],
   "source": [
    "plt.figure(figsize=(15,10))\n",
    "plt.scatter(range(200),predict[:200],c='r')\n",
    "plt.scatter(range(200),y_test[:200], c='g')\n",
    "plt.show()"
   ]
  },
  {
   "cell_type": "code",
   "execution_count": 310,
   "metadata": {},
   "outputs": [
    {
     "data": {
      "image/png": "[encoded data removed]",
      "text/plain": [
       "<Figure size 1080x720 with 1 Axes>"
      ]
     },
     "metadata": {
      "needs_background": "light"
     },
     "output_type": "display_data"
    }
   ],
   "source": [
    "plt.figure(figsize=(15,10))\n",
    "plt.scatter(range(200),predict[:200],c='r')\n",
    "plt.scatter(range(200),y_test[:200], c='g')\n",
    "plt.show()"
   ]
  },
  {
   "cell_type": "code",
   "execution_count": 142,
   "metadata": {},
   "outputs": [
    {
     "data": {
      "text/plain": [
       "<keras.callbacks.callbacks.History at 0x76869400>"
      ]
     },
     "execution_count": 142,
     "metadata": {},
     "output_type": "execute_result"
    }
   ],
   "source": [
    "history"
   ]
  },
  {
   "cell_type": "code",
   "execution_count": 145,
   "metadata": {},
   "outputs": [
    {
     "data": {
      "text/plain": [
       "6064830"
      ]
     },
     "execution_count": 145,
     "metadata": {},
     "output_type": "execute_result"
    }
   ],
   "source": [
    "predict.size"
   ]
  },
  {
   "cell_type": "code",
   "execution_count": 148,
   "metadata": {},
   "outputs": [
    {
     "data": {
      "text/plain": [
       "array([4.2920465], dtype=float32)"
      ]
     },
     "execution_count": 148,
     "metadata": {},
     "output_type": "execute_result"
    }
   ],
   "source": [
    "predict[200]"
   ]
  },
  {
   "cell_type": "code",
   "execution_count": 188,
   "metadata": {},
   "outputs": [
    {
     "data": {
      "text/plain": [
       "[<matplotlib.lines.Line2D at 0x58562c50>]"
      ]
     },
     "execution_count": 188,
     "metadata": {},
     "output_type": "execute_result"
    },
    {
     "data": {
      "image/png": "[encoded data removed]",
      "text/plain": [
       "<Figure size 432x288 with 1 Axes>"
      ]
     },
     "metadata": {
      "needs_background": "light"
     },
     "output_type": "display_data"
    }
   ],
   "source": [
    "plt.plot(history.history['loss'])"
   ]
  },
  {
   "cell_type": "code",
   "execution_count": null,
   "metadata": {},
   "outputs": [],
   "source": []
  }
 ],
 "metadata": {
  "kernelspec": {
   "display_name": "Python 3",
   "language": "python",
   "name": "python3"
  },
  "language_info": {
   "codemirror_mode": {
    "name": "ipython",
    "version": 3
   },
   "file_extension": ".py",
   "mimetype": "text/x-python",
   "name": "python",
   "nbconvert_exporter": "python",
   "pygments_lexer": "ipython3",
   "version": "3.7.3"
  }
 },
 "nbformat": 4,
 "nbformat_minor": 2
}
